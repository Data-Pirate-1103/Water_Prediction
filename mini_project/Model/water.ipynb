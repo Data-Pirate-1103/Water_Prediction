{
 "cells": [
  {
   "cell_type": "code",
   "execution_count": 2,
   "metadata": {},
   "outputs": [],
   "source": [
    "import numpy as np\n",
    "import pandas as pd"
   ]
  },
  {
   "cell_type": "code",
   "execution_count": 3,
   "metadata": {},
   "outputs": [
    {
     "data": {
      "text/html": [
       "<div>\n",
       "<style scoped>\n",
       "    .dataframe tbody tr th:only-of-type {\n",
       "        vertical-align: middle;\n",
       "    }\n",
       "\n",
       "    .dataframe tbody tr th {\n",
       "        vertical-align: top;\n",
       "    }\n",
       "\n",
       "    .dataframe thead th {\n",
       "        text-align: right;\n",
       "    }\n",
       "</style>\n",
       "<table border=\"1\" class=\"dataframe\">\n",
       "  <thead>\n",
       "    <tr style=\"text-align: right;\">\n",
       "      <th></th>\n",
       "      <th>TPSA(TOT)</th>\n",
       "      <th>SAacc</th>\n",
       "      <th>H-050</th>\n",
       "      <th>MLOGP</th>\n",
       "      <th>RDCHI</th>\n",
       "      <th>GATS1P</th>\n",
       "      <th>nN</th>\n",
       "      <th>C-040</th>\n",
       "      <th>LC50</th>\n",
       "    </tr>\n",
       "  </thead>\n",
       "  <tbody>\n",
       "    <tr>\n",
       "      <th>0</th>\n",
       "      <td>0.00</td>\n",
       "      <td>0.000</td>\n",
       "      <td>0</td>\n",
       "      <td>2.419</td>\n",
       "      <td>1.225</td>\n",
       "      <td>0.667</td>\n",
       "      <td>0</td>\n",
       "      <td>0</td>\n",
       "      <td>3.740</td>\n",
       "    </tr>\n",
       "    <tr>\n",
       "      <th>1</th>\n",
       "      <td>0.00</td>\n",
       "      <td>0.000</td>\n",
       "      <td>0</td>\n",
       "      <td>2.638</td>\n",
       "      <td>1.401</td>\n",
       "      <td>0.632</td>\n",
       "      <td>0</td>\n",
       "      <td>0</td>\n",
       "      <td>4.330</td>\n",
       "    </tr>\n",
       "    <tr>\n",
       "      <th>2</th>\n",
       "      <td>9.23</td>\n",
       "      <td>11.000</td>\n",
       "      <td>0</td>\n",
       "      <td>5.799</td>\n",
       "      <td>2.930</td>\n",
       "      <td>0.486</td>\n",
       "      <td>0</td>\n",
       "      <td>0</td>\n",
       "      <td>7.019</td>\n",
       "    </tr>\n",
       "    <tr>\n",
       "      <th>3</th>\n",
       "      <td>9.23</td>\n",
       "      <td>11.000</td>\n",
       "      <td>0</td>\n",
       "      <td>5.453</td>\n",
       "      <td>2.887</td>\n",
       "      <td>0.495</td>\n",
       "      <td>0</td>\n",
       "      <td>0</td>\n",
       "      <td>6.723</td>\n",
       "    </tr>\n",
       "    <tr>\n",
       "      <th>4</th>\n",
       "      <td>9.23</td>\n",
       "      <td>11.000</td>\n",
       "      <td>0</td>\n",
       "      <td>4.068</td>\n",
       "      <td>2.758</td>\n",
       "      <td>0.695</td>\n",
       "      <td>0</td>\n",
       "      <td>0</td>\n",
       "      <td>5.979</td>\n",
       "    </tr>\n",
       "    <tr>\n",
       "      <th>...</th>\n",
       "      <td>...</td>\n",
       "      <td>...</td>\n",
       "      <td>...</td>\n",
       "      <td>...</td>\n",
       "      <td>...</td>\n",
       "      <td>...</td>\n",
       "      <td>...</td>\n",
       "      <td>...</td>\n",
       "      <td>...</td>\n",
       "    </tr>\n",
       "    <tr>\n",
       "      <th>541</th>\n",
       "      <td>24.06</td>\n",
       "      <td>35.776</td>\n",
       "      <td>2</td>\n",
       "      <td>3.326</td>\n",
       "      <td>2.837</td>\n",
       "      <td>0.849</td>\n",
       "      <td>2</td>\n",
       "      <td>0</td>\n",
       "      <td>4.651</td>\n",
       "    </tr>\n",
       "    <tr>\n",
       "      <th>542</th>\n",
       "      <td>9.23</td>\n",
       "      <td>11.000</td>\n",
       "      <td>0</td>\n",
       "      <td>3.275</td>\n",
       "      <td>2.727</td>\n",
       "      <td>0.874</td>\n",
       "      <td>0</td>\n",
       "      <td>0</td>\n",
       "      <td>3.953</td>\n",
       "    </tr>\n",
       "    <tr>\n",
       "      <th>543</th>\n",
       "      <td>0.00</td>\n",
       "      <td>0.000</td>\n",
       "      <td>0</td>\n",
       "      <td>5.165</td>\n",
       "      <td>3.111</td>\n",
       "      <td>0.732</td>\n",
       "      <td>0</td>\n",
       "      <td>0</td>\n",
       "      <td>6.219</td>\n",
       "    </tr>\n",
       "    <tr>\n",
       "      <th>544</th>\n",
       "      <td>13.14</td>\n",
       "      <td>9.507</td>\n",
       "      <td>0</td>\n",
       "      <td>2.859</td>\n",
       "      <td>2.614</td>\n",
       "      <td>0.827</td>\n",
       "      <td>0</td>\n",
       "      <td>0</td>\n",
       "      <td>4.995</td>\n",
       "    </tr>\n",
       "    <tr>\n",
       "      <th>545</th>\n",
       "      <td>0.00</td>\n",
       "      <td>0.000</td>\n",
       "      <td>0</td>\n",
       "      <td>2.255</td>\n",
       "      <td>1.800</td>\n",
       "      <td>0.917</td>\n",
       "      <td>0</td>\n",
       "      <td>0</td>\n",
       "      <td>2.480</td>\n",
       "    </tr>\n",
       "  </tbody>\n",
       "</table>\n",
       "<p>546 rows × 9 columns</p>\n",
       "</div>"
      ],
      "text/plain": [
       "     TPSA(TOT)   SAacc  H-050  MLOGP  RDCHI  GATS1P  nN  C-040   LC50\n",
       "0         0.00   0.000      0  2.419  1.225   0.667   0      0  3.740\n",
       "1         0.00   0.000      0  2.638  1.401   0.632   0      0  4.330\n",
       "2         9.23  11.000      0  5.799  2.930   0.486   0      0  7.019\n",
       "3         9.23  11.000      0  5.453  2.887   0.495   0      0  6.723\n",
       "4         9.23  11.000      0  4.068  2.758   0.695   0      0  5.979\n",
       "..         ...     ...    ...    ...    ...     ...  ..    ...    ...\n",
       "541      24.06  35.776      2  3.326  2.837   0.849   2      0  4.651\n",
       "542       9.23  11.000      0  3.275  2.727   0.874   0      0  3.953\n",
       "543       0.00   0.000      0  5.165  3.111   0.732   0      0  6.219\n",
       "544      13.14   9.507      0  2.859  2.614   0.827   0      0  4.995\n",
       "545       0.00   0.000      0  2.255  1.800   0.917   0      0  2.480\n",
       "\n",
       "[546 rows x 9 columns]"
      ]
     },
     "execution_count": 3,
     "metadata": {},
     "output_type": "execute_result"
    }
   ],
   "source": [
    "df = pd.read_csv('qsar_aquatic_toxicity.csv')\n",
    "df"
   ]
  },
  {
   "cell_type": "code",
   "execution_count": 4,
   "metadata": {},
   "outputs": [],
   "source": [
    "feature_names = ['TPSA(TOT)','SAacc','H-050','MLOGP','RDCHI','GATS1P','nN','C-040']"
   ]
  },
  {
   "cell_type": "code",
   "execution_count": 5,
   "metadata": {},
   "outputs": [],
   "source": [
    "X_data = df[feature_names]"
   ]
  },
  {
   "cell_type": "code",
   "execution_count": 6,
   "metadata": {},
   "outputs": [],
   "source": [
    "y_data = df.LC50"
   ]
  },
  {
   "cell_type": "code",
   "execution_count": 7,
   "metadata": {},
   "outputs": [],
   "source": [
    "# from sklearn.model_selection import train_test_split\n",
    "# X_train,X_test,y_train,y_test = train_test_split(X_data,y_data,test_size = 0.4,random_state=23)"
   ]
  },
  {
   "cell_type": "markdown",
   "metadata": {},
   "source": [
    "LINEAR REGRESSION"
   ]
  },
  {
   "cell_type": "code",
   "execution_count": 57,
   "metadata": {},
   "outputs": [],
   "source": [
    "from sklearn.linear_model import  LinearRegression\n",
    "lr = LinearRegression()\n",
    "lr.fit(X_data.values,y_data)\n",
    "linear_predict = lr.predict(X_data.values)"
   ]
  },
  {
   "cell_type": "code",
   "execution_count": 58,
   "metadata": {},
   "outputs": [
    {
     "data": {
      "text/plain": [
       "1.4222971095618084"
      ]
     },
     "execution_count": 58,
     "metadata": {},
     "output_type": "execute_result"
    }
   ],
   "source": [
    "from sklearn.metrics import mean_squared_error\n",
    "mean_squared_error(y_data,linear_predict)"
   ]
  },
  {
   "cell_type": "code",
   "execution_count": 59,
   "metadata": {},
   "outputs": [
    {
     "data": {
      "text/plain": [
       "0.4861388232902434"
      ]
     },
     "execution_count": 59,
     "metadata": {},
     "output_type": "execute_result"
    }
   ],
   "source": [
    "from sklearn.metrics import r2_score\n",
    "r2_score(y_data,linear_predict)"
   ]
  },
  {
   "cell_type": "markdown",
   "metadata": {},
   "source": [
    "HUBER REGREESION"
   ]
  },
  {
   "cell_type": "code",
   "execution_count": 52,
   "metadata": {},
   "outputs": [
    {
     "name": "stderr",
     "output_type": "stream",
     "text": [
      "c:\\Users\\mynam\\AppData\\Local\\Programs\\Python\\Python311\\Lib\\site-packages\\sklearn\\linear_model\\_huber.py:342: ConvergenceWarning: lbfgs failed to converge (status=1):\n",
      "STOP: TOTAL NO. of ITERATIONS REACHED LIMIT.\n",
      "\n",
      "Increase the number of iterations (max_iter) or scale the data as shown in:\n",
      "    https://scikit-learn.org/stable/modules/preprocessing.html\n",
      "  self.n_iter_ = _check_optimize_result(\"lbfgs\", opt_res, self.max_iter)\n"
     ]
    },
    {
     "data": {
      "text/plain": [
       "array([3.9148646 , 4.14225083, 6.74045035, 6.53153129, 5.61081872,\n",
       "       5.306482  , 4.37810634, 4.72560711, 3.64619001, 3.83607076,\n",
       "       4.09089582, 2.79856796, 5.59113742, 2.40661868, 6.81644056,\n",
       "       4.35581447, 3.16862829, 6.36189829, 2.1435909 , 2.4394773 ,\n",
       "       5.58397352, 3.61364009, 4.00354567, 3.32441174, 8.81187001,\n",
       "       7.17525109, 7.29306739, 4.86250095, 4.8680518 , 5.3851465 ,\n",
       "       5.12255095, 3.89732347, 3.41429943, 5.30461197, 2.96837152,\n",
       "       3.79911066, 6.23109214, 6.44601074, 6.28322709, 4.99523119,\n",
       "       5.05899565, 4.48716339, 4.30446138, 3.70526771, 4.43739895,\n",
       "       4.43739895, 4.52275978, 1.78420893, 4.8955138 , 2.34832603,\n",
       "       2.71427392, 3.80063978, 5.21420575, 4.81490961, 4.26511153,\n",
       "       3.78476766, 2.19935693, 4.37214431, 2.68972995, 5.27389096,\n",
       "       4.88603825, 3.76554365, 2.99920389, 3.72837139, 3.64476223,\n",
       "       6.27900869, 6.75777188, 6.88386699, 4.07126015, 7.14897919,\n",
       "       5.87874411, 5.68688073, 5.60496711, 3.4567824 , 3.40772218,\n",
       "       4.60896979, 4.94837456, 4.2766237 , 4.3667522 , 5.48537095,\n",
       "       6.05650829, 3.67310654, 4.88396127, 5.71060978, 4.73961145,\n",
       "       4.38236363, 7.90706094, 4.58483634, 2.18129103, 2.77067752,\n",
       "       4.42065647, 6.10314845, 5.54826302, 5.10553329, 4.41896536,\n",
       "       3.94488976, 5.07906596, 3.41656388, 3.37282735, 1.72522666,\n",
       "       5.72701843, 2.87665027, 3.21712945, 6.0797086 , 4.71781339,\n",
       "       3.09579323, 2.41204632, 5.1401383 , 8.05386692, 5.57815203,\n",
       "       6.0649958 , 6.27610022, 7.135643  , 4.21281758, 4.57929822,\n",
       "       6.77108233, 4.08019707, 4.30330175, 6.75069091, 4.17373417,\n",
       "       4.06508783, 4.31498668, 5.99440893, 4.31725175, 3.32689639,\n",
       "       5.18648343, 3.51216509, 1.62239765, 2.8421466 , 3.34665777,\n",
       "       3.52124412, 5.41323742, 6.3192728 , 4.64060553, 2.68203594,\n",
       "       3.86421528, 3.54079264, 3.61403503, 4.98472041, 4.56471136,\n",
       "       3.13840622, 3.36072025, 4.24467748, 3.43473755, 4.87705566,\n",
       "       3.16458748, 2.73438975, 3.79574154, 3.91767168, 3.72519859,\n",
       "       4.41698014, 3.55246199, 3.37697897, 4.2221786 , 3.71725237,\n",
       "       1.02288029, 4.77259937, 5.29726125, 5.6387586 , 4.70715126,\n",
       "       4.31697187, 5.51659593, 4.14917291, 4.63853674, 2.02897526,\n",
       "       2.74108924, 2.55828639, 3.4493399 , 3.61156253, 3.43563875,\n",
       "       5.81487384, 5.63404128, 5.69005597, 5.47666359, 4.89940531,\n",
       "       4.67834167, 5.06216836, 4.68038813, 3.8307012 , 3.82101077,\n",
       "       4.89896966, 3.82558505, 3.50764281, 3.75673692, 3.81791083,\n",
       "       3.49996858, 5.71251815, 6.75744129, 4.95248125, 4.60824972,\n",
       "       4.61170771, 4.4498155 , 3.96111602, 4.28899985, 4.94555744,\n",
       "       4.65672983, 4.60785721, 3.80634137, 4.24421387, 5.01517634,\n",
       "       5.63069533, 4.28593016, 4.12056446, 3.80327168, 4.23080832,\n",
       "       5.00494404, 4.28081401, 3.79815553, 3.23711122, 5.62353272,\n",
       "       3.52269651, 3.5921262 , 6.48984312, 3.35457522, 3.67123889,\n",
       "       4.42874673, 4.2447991 , 3.17968373, 6.82594494, 2.64385383,\n",
       "       3.70697795, 4.67991869, 6.06112205, 5.60723658, 5.87236452,\n",
       "       6.12751042, 6.33188998, 3.93583248, 3.64789223, 4.18450964,\n",
       "       4.22177643, 3.80063978, 3.02313925, 3.87158513, 3.6224593 ,\n",
       "       3.66391717, 2.67057943, 5.61355558, 5.26037707, 5.41330105,\n",
       "       6.79231098, 6.9718466 , 4.70560286, 5.61816011, 4.971204  ,\n",
       "       5.78397934, 5.29768736, 4.97325046, 6.98003244, 6.31341612,\n",
       "       6.07778475, 5.01610205, 5.16770532, 4.28516911, 5.02518147,\n",
       "       4.18790999, 5.2680513 , 4.90053634, 4.57934676, 5.01354398,\n",
       "       6.64431751, 4.90053634, 5.62122555, 4.70915251, 5.86025865,\n",
       "       4.88644767, 4.97630216, 6.25733108, 4.58776675, 6.32722973,\n",
       "       5.62962609, 6.65710788, 6.63357359, 5.02243252, 5.27882908,\n",
       "       4.88337798, 4.58213899, 5.62246348, 5.26859678, 4.45658711,\n",
       "       4.87826183, 2.94971922, 4.6915552 , 2.53901427, 1.72820076,\n",
       "       2.65723635, 3.84749329, 5.33882234, 5.25267755, 5.0282359 ,\n",
       "       6.64503349, 5.48241471, 6.78805182, 6.12439233, 4.35115466,\n",
       "       5.62491225, 4.71186841, 6.05441029, 6.32936731, 4.74155035,\n",
       "       2.16214042, 6.23413214, 2.65628419, 5.57638005, 4.92677859,\n",
       "       4.94695766, 3.67453334, 5.09082718, 2.67534235, 2.15433113,\n",
       "       3.03243152, 4.9025828 , 5.29103637, 4.47171749, 4.04175832,\n",
       "       3.97086372, 3.28600823, 5.05582684, 1.96638201, 3.91898114,\n",
       "       4.1971693 , 6.00337978, 4.96913141, 5.71268246, 6.10138746,\n",
       "       3.60514759, 4.36486833, 5.55319075, 5.28205704, 3.34914934,\n",
       "       3.29052955, 1.77134907, 6.073234  , 5.72234729, 2.53463768,\n",
       "       1.57606669, 3.40719679, 3.83059166, 3.86695121, 4.52833184,\n",
       "       6.65975704, 4.43249583, 4.04756766, 5.00256265, 5.73790135,\n",
       "       4.11452173, 4.54672867, 3.35030153, 5.43232591, 5.42480585,\n",
       "       5.36406477, 5.81761444, 2.2368332 , 4.39280372, 4.66165219,\n",
       "       4.7823839 , 3.99991391, 4.18785789, 4.79486344, 4.66241523,\n",
       "       4.21368673, 4.11483794, 5.0871294 , 4.54570532, 2.49810328,\n",
       "       3.52063235, 1.76155856, 1.42035856, 2.08064838, 2.35152221,\n",
       "       2.16809406, 4.38287242, 2.55948996, 2.42990133, 4.50576706,\n",
       "       4.28516911, 4.31301092, 4.15182685, 3.88178805, 4.91706067,\n",
       "       5.30512879, 4.55242347, 3.64967414, 4.14364101, 4.89915415,\n",
       "       3.4209019 , 5.95401933, 5.93493568, 5.730189  , 7.28908733,\n",
       "       5.66253056, 4.03109905, 3.96991881, 6.00005423, 5.36078329,\n",
       "       3.63240051, 3.5118322 , 3.102659  , 4.49955908, 4.78237414,\n",
       "       4.32334344, 4.85480579, 4.55344399, 4.3890147 , 4.69267393,\n",
       "       4.51900045, 4.88072257, 4.19649056, 4.38490537, 4.3752011 ,\n",
       "       4.70250152, 5.00382329, 4.07979692, 4.22159925, 5.27877121,\n",
       "       3.95630493, 5.06507801, 5.23921867, 5.20934544, 4.41116916,\n",
       "       6.56596581, 5.9591463 , 5.61153793, 5.62535154, 5.64816419,\n",
       "       6.89023362, 4.87310489, 3.94070356, 4.72634965, 3.94070356,\n",
       "       8.13971251, 6.23137994, 5.46827484, 2.74573152, 4.32256009,\n",
       "       3.94126341, 4.2965438 , 4.17270489, 4.50076034, 2.35845935,\n",
       "       1.91290206, 4.42006133, 5.58180253, 3.88670963, 2.67385634,\n",
       "       3.80929238, 4.40009072, 3.62435167, 5.52076674, 4.29700205,\n",
       "       3.15912862, 4.62127506, 5.11648805, 7.37165594, 4.87813145,\n",
       "       5.18748798, 7.76574528, 4.898184  , 5.31396607, 5.44743903,\n",
       "       4.27163606, 7.15855731, 3.84332604, 2.4082824 , 3.93051028,\n",
       "       3.60231364, 4.27474055, 2.53802711, 5.23985038, 6.1841423 ,\n",
       "       6.43143956, 6.73131788, 4.32225482, 2.40617705, 5.70744053,\n",
       "       4.11887092, 1.50351436, 3.4555304 , 3.86478854, 3.41071686,\n",
       "       4.82059689, 5.37149416, 5.37690178, 3.90589669, 4.19014543,\n",
       "       3.80092068, 6.23064675, 5.05992371, 5.88483975, 4.89703667,\n",
       "       2.70730139, 3.58910492, 5.73619929, 4.45186196, 4.23643608,\n",
       "       3.9534418 , 4.12084363, 4.11544831, 6.02084796, 3.96690311,\n",
       "       3.85589419, 3.61219791, 3.38603299, 5.33727878, 5.52891612,\n",
       "       5.19863401, 5.19863401, 5.40916059, 5.01047429, 6.81175235,\n",
       "       6.30369544, 4.97207158, 4.89442253, 5.61171957, 4.86807859,\n",
       "       3.48001891, 4.90053634, 6.01984577, 4.4686478 , 4.46353165,\n",
       "       4.70961633, 5.15385918, 6.50441943, 2.35130906, 5.12311081,\n",
       "       3.86899658, 3.84774293, 2.72240892, 4.52379051, 2.3628691 ,\n",
       "       2.0126407 , 5.74575379, 2.7054102 , 1.69946007, 2.03770407,\n",
       "       5.19863401, 4.971204  , 6.03156973, 5.75072589, 4.57292992,\n",
       "       5.95454176, 5.02289256, 5.06369839, 6.27463709, 4.96203294,\n",
       "       3.96084949])"
      ]
     },
     "execution_count": 52,
     "metadata": {},
     "output_type": "execute_result"
    }
   ],
   "source": [
    "from sklearn.linear_model import HuberRegressor\n",
    "huberregg = HuberRegressor()\n",
    "huberregg.fit(X_data.values,y_data)\n",
    "prediction1 = huberregg.predict(X_data.values)\n",
    "prediction1"
   ]
  },
  {
   "cell_type": "code",
   "execution_count": 53,
   "metadata": {},
   "outputs": [
    {
     "data": {
      "text/plain": [
       "1.466923225160619"
      ]
     },
     "execution_count": 53,
     "metadata": {},
     "output_type": "execute_result"
    }
   ],
   "source": [
    "from sklearn.metrics import mean_squared_log_error\n",
    "mean_squared_error(y_data,prediction1)"
   ]
  },
  {
   "cell_type": "code",
   "execution_count": 54,
   "metadata": {},
   "outputs": [
    {
     "data": {
      "text/plain": [
       "0.4700158711170118"
      ]
     },
     "execution_count": 54,
     "metadata": {},
     "output_type": "execute_result"
    }
   ],
   "source": [
    "from sklearn.metrics import r2_score\n",
    "r2_score(y_data,prediction1)"
   ]
  },
  {
   "cell_type": "markdown",
   "metadata": {},
   "source": [
    "DECISION TREE REGRESSOR "
   ]
  },
  {
   "cell_type": "code",
   "execution_count": 11,
   "metadata": {},
   "outputs": [
    {
     "data": {
      "text/html": [
       "<style>#sk-container-id-1 {\n",
       "  /* Definition of color scheme common for light and dark mode */\n",
       "  --sklearn-color-text: black;\n",
       "  --sklearn-color-line: gray;\n",
       "  /* Definition of color scheme for unfitted estimators */\n",
       "  --sklearn-color-unfitted-level-0: #fff5e6;\n",
       "  --sklearn-color-unfitted-level-1: #f6e4d2;\n",
       "  --sklearn-color-unfitted-level-2: #ffe0b3;\n",
       "  --sklearn-color-unfitted-level-3: chocolate;\n",
       "  /* Definition of color scheme for fitted estimators */\n",
       "  --sklearn-color-fitted-level-0: #f0f8ff;\n",
       "  --sklearn-color-fitted-level-1: #d4ebff;\n",
       "  --sklearn-color-fitted-level-2: #b3dbfd;\n",
       "  --sklearn-color-fitted-level-3: cornflowerblue;\n",
       "\n",
       "  /* Specific color for light theme */\n",
       "  --sklearn-color-text-on-default-background: var(--sg-text-color, var(--theme-code-foreground, var(--jp-content-font-color1, black)));\n",
       "  --sklearn-color-background: var(--sg-background-color, var(--theme-background, var(--jp-layout-color0, white)));\n",
       "  --sklearn-color-border-box: var(--sg-text-color, var(--theme-code-foreground, var(--jp-content-font-color1, black)));\n",
       "  --sklearn-color-icon: #696969;\n",
       "\n",
       "  @media (prefers-color-scheme: dark) {\n",
       "    /* Redefinition of color scheme for dark theme */\n",
       "    --sklearn-color-text-on-default-background: var(--sg-text-color, var(--theme-code-foreground, var(--jp-content-font-color1, white)));\n",
       "    --sklearn-color-background: var(--sg-background-color, var(--theme-background, var(--jp-layout-color0, #111)));\n",
       "    --sklearn-color-border-box: var(--sg-text-color, var(--theme-code-foreground, var(--jp-content-font-color1, white)));\n",
       "    --sklearn-color-icon: #878787;\n",
       "  }\n",
       "}\n",
       "\n",
       "#sk-container-id-1 {\n",
       "  color: var(--sklearn-color-text);\n",
       "}\n",
       "\n",
       "#sk-container-id-1 pre {\n",
       "  padding: 0;\n",
       "}\n",
       "\n",
       "#sk-container-id-1 input.sk-hidden--visually {\n",
       "  border: 0;\n",
       "  clip: rect(1px 1px 1px 1px);\n",
       "  clip: rect(1px, 1px, 1px, 1px);\n",
       "  height: 1px;\n",
       "  margin: -1px;\n",
       "  overflow: hidden;\n",
       "  padding: 0;\n",
       "  position: absolute;\n",
       "  width: 1px;\n",
       "}\n",
       "\n",
       "#sk-container-id-1 div.sk-dashed-wrapped {\n",
       "  border: 1px dashed var(--sklearn-color-line);\n",
       "  margin: 0 0.4em 0.5em 0.4em;\n",
       "  box-sizing: border-box;\n",
       "  padding-bottom: 0.4em;\n",
       "  background-color: var(--sklearn-color-background);\n",
       "}\n",
       "\n",
       "#sk-container-id-1 div.sk-container {\n",
       "  /* jupyter's `normalize.less` sets `[hidden] { display: none; }`\n",
       "     but bootstrap.min.css set `[hidden] { display: none !important; }`\n",
       "     so we also need the `!important` here to be able to override the\n",
       "     default hidden behavior on the sphinx rendered scikit-learn.org.\n",
       "     See: https://github.com/scikit-learn/scikit-learn/issues/21755 */\n",
       "  display: inline-block !important;\n",
       "  position: relative;\n",
       "}\n",
       "\n",
       "#sk-container-id-1 div.sk-text-repr-fallback {\n",
       "  display: none;\n",
       "}\n",
       "\n",
       "div.sk-parallel-item,\n",
       "div.sk-serial,\n",
       "div.sk-item {\n",
       "  /* draw centered vertical line to link estimators */\n",
       "  background-image: linear-gradient(var(--sklearn-color-text-on-default-background), var(--sklearn-color-text-on-default-background));\n",
       "  background-size: 2px 100%;\n",
       "  background-repeat: no-repeat;\n",
       "  background-position: center center;\n",
       "}\n",
       "\n",
       "/* Parallel-specific style estimator block */\n",
       "\n",
       "#sk-container-id-1 div.sk-parallel-item::after {\n",
       "  content: \"\";\n",
       "  width: 100%;\n",
       "  border-bottom: 2px solid var(--sklearn-color-text-on-default-background);\n",
       "  flex-grow: 1;\n",
       "}\n",
       "\n",
       "#sk-container-id-1 div.sk-parallel {\n",
       "  display: flex;\n",
       "  align-items: stretch;\n",
       "  justify-content: center;\n",
       "  background-color: var(--sklearn-color-background);\n",
       "  position: relative;\n",
       "}\n",
       "\n",
       "#sk-container-id-1 div.sk-parallel-item {\n",
       "  display: flex;\n",
       "  flex-direction: column;\n",
       "}\n",
       "\n",
       "#sk-container-id-1 div.sk-parallel-item:first-child::after {\n",
       "  align-self: flex-end;\n",
       "  width: 50%;\n",
       "}\n",
       "\n",
       "#sk-container-id-1 div.sk-parallel-item:last-child::after {\n",
       "  align-self: flex-start;\n",
       "  width: 50%;\n",
       "}\n",
       "\n",
       "#sk-container-id-1 div.sk-parallel-item:only-child::after {\n",
       "  width: 0;\n",
       "}\n",
       "\n",
       "/* Serial-specific style estimator block */\n",
       "\n",
       "#sk-container-id-1 div.sk-serial {\n",
       "  display: flex;\n",
       "  flex-direction: column;\n",
       "  align-items: center;\n",
       "  background-color: var(--sklearn-color-background);\n",
       "  padding-right: 1em;\n",
       "  padding-left: 1em;\n",
       "}\n",
       "\n",
       "\n",
       "/* Toggleable style: style used for estimator/Pipeline/ColumnTransformer box that is\n",
       "clickable and can be expanded/collapsed.\n",
       "- Pipeline and ColumnTransformer use this feature and define the default style\n",
       "- Estimators will overwrite some part of the style using the `sk-estimator` class\n",
       "*/\n",
       "\n",
       "/* Pipeline and ColumnTransformer style (default) */\n",
       "\n",
       "#sk-container-id-1 div.sk-toggleable {\n",
       "  /* Default theme specific background. It is overwritten whether we have a\n",
       "  specific estimator or a Pipeline/ColumnTransformer */\n",
       "  background-color: var(--sklearn-color-background);\n",
       "}\n",
       "\n",
       "/* Toggleable label */\n",
       "#sk-container-id-1 label.sk-toggleable__label {\n",
       "  cursor: pointer;\n",
       "  display: block;\n",
       "  width: 100%;\n",
       "  margin-bottom: 0;\n",
       "  padding: 0.5em;\n",
       "  box-sizing: border-box;\n",
       "  text-align: center;\n",
       "}\n",
       "\n",
       "#sk-container-id-1 label.sk-toggleable__label-arrow:before {\n",
       "  /* Arrow on the left of the label */\n",
       "  content: \"▸\";\n",
       "  float: left;\n",
       "  margin-right: 0.25em;\n",
       "  color: var(--sklearn-color-icon);\n",
       "}\n",
       "\n",
       "#sk-container-id-1 label.sk-toggleable__label-arrow:hover:before {\n",
       "  color: var(--sklearn-color-text);\n",
       "}\n",
       "\n",
       "/* Toggleable content - dropdown */\n",
       "\n",
       "#sk-container-id-1 div.sk-toggleable__content {\n",
       "  max-height: 0;\n",
       "  max-width: 0;\n",
       "  overflow: hidden;\n",
       "  text-align: left;\n",
       "  /* unfitted */\n",
       "  background-color: var(--sklearn-color-unfitted-level-0);\n",
       "}\n",
       "\n",
       "#sk-container-id-1 div.sk-toggleable__content.fitted {\n",
       "  /* fitted */\n",
       "  background-color: var(--sklearn-color-fitted-level-0);\n",
       "}\n",
       "\n",
       "#sk-container-id-1 div.sk-toggleable__content pre {\n",
       "  margin: 0.2em;\n",
       "  border-radius: 0.25em;\n",
       "  color: var(--sklearn-color-text);\n",
       "  /* unfitted */\n",
       "  background-color: var(--sklearn-color-unfitted-level-0);\n",
       "}\n",
       "\n",
       "#sk-container-id-1 div.sk-toggleable__content.fitted pre {\n",
       "  /* unfitted */\n",
       "  background-color: var(--sklearn-color-fitted-level-0);\n",
       "}\n",
       "\n",
       "#sk-container-id-1 input.sk-toggleable__control:checked~div.sk-toggleable__content {\n",
       "  /* Expand drop-down */\n",
       "  max-height: 200px;\n",
       "  max-width: 100%;\n",
       "  overflow: auto;\n",
       "}\n",
       "\n",
       "#sk-container-id-1 input.sk-toggleable__control:checked~label.sk-toggleable__label-arrow:before {\n",
       "  content: \"▾\";\n",
       "}\n",
       "\n",
       "/* Pipeline/ColumnTransformer-specific style */\n",
       "\n",
       "#sk-container-id-1 div.sk-label input.sk-toggleable__control:checked~label.sk-toggleable__label {\n",
       "  color: var(--sklearn-color-text);\n",
       "  background-color: var(--sklearn-color-unfitted-level-2);\n",
       "}\n",
       "\n",
       "#sk-container-id-1 div.sk-label.fitted input.sk-toggleable__control:checked~label.sk-toggleable__label {\n",
       "  background-color: var(--sklearn-color-fitted-level-2);\n",
       "}\n",
       "\n",
       "/* Estimator-specific style */\n",
       "\n",
       "/* Colorize estimator box */\n",
       "#sk-container-id-1 div.sk-estimator input.sk-toggleable__control:checked~label.sk-toggleable__label {\n",
       "  /* unfitted */\n",
       "  background-color: var(--sklearn-color-unfitted-level-2);\n",
       "}\n",
       "\n",
       "#sk-container-id-1 div.sk-estimator.fitted input.sk-toggleable__control:checked~label.sk-toggleable__label {\n",
       "  /* fitted */\n",
       "  background-color: var(--sklearn-color-fitted-level-2);\n",
       "}\n",
       "\n",
       "#sk-container-id-1 div.sk-label label.sk-toggleable__label,\n",
       "#sk-container-id-1 div.sk-label label {\n",
       "  /* The background is the default theme color */\n",
       "  color: var(--sklearn-color-text-on-default-background);\n",
       "}\n",
       "\n",
       "/* On hover, darken the color of the background */\n",
       "#sk-container-id-1 div.sk-label:hover label.sk-toggleable__label {\n",
       "  color: var(--sklearn-color-text);\n",
       "  background-color: var(--sklearn-color-unfitted-level-2);\n",
       "}\n",
       "\n",
       "/* Label box, darken color on hover, fitted */\n",
       "#sk-container-id-1 div.sk-label.fitted:hover label.sk-toggleable__label.fitted {\n",
       "  color: var(--sklearn-color-text);\n",
       "  background-color: var(--sklearn-color-fitted-level-2);\n",
       "}\n",
       "\n",
       "/* Estimator label */\n",
       "\n",
       "#sk-container-id-1 div.sk-label label {\n",
       "  font-family: monospace;\n",
       "  font-weight: bold;\n",
       "  display: inline-block;\n",
       "  line-height: 1.2em;\n",
       "}\n",
       "\n",
       "#sk-container-id-1 div.sk-label-container {\n",
       "  text-align: center;\n",
       "}\n",
       "\n",
       "/* Estimator-specific */\n",
       "#sk-container-id-1 div.sk-estimator {\n",
       "  font-family: monospace;\n",
       "  border: 1px dotted var(--sklearn-color-border-box);\n",
       "  border-radius: 0.25em;\n",
       "  box-sizing: border-box;\n",
       "  margin-bottom: 0.5em;\n",
       "  /* unfitted */\n",
       "  background-color: var(--sklearn-color-unfitted-level-0);\n",
       "}\n",
       "\n",
       "#sk-container-id-1 div.sk-estimator.fitted {\n",
       "  /* fitted */\n",
       "  background-color: var(--sklearn-color-fitted-level-0);\n",
       "}\n",
       "\n",
       "/* on hover */\n",
       "#sk-container-id-1 div.sk-estimator:hover {\n",
       "  /* unfitted */\n",
       "  background-color: var(--sklearn-color-unfitted-level-2);\n",
       "}\n",
       "\n",
       "#sk-container-id-1 div.sk-estimator.fitted:hover {\n",
       "  /* fitted */\n",
       "  background-color: var(--sklearn-color-fitted-level-2);\n",
       "}\n",
       "\n",
       "/* Specification for estimator info (e.g. \"i\" and \"?\") */\n",
       "\n",
       "/* Common style for \"i\" and \"?\" */\n",
       "\n",
       ".sk-estimator-doc-link,\n",
       "a:link.sk-estimator-doc-link,\n",
       "a:visited.sk-estimator-doc-link {\n",
       "  float: right;\n",
       "  font-size: smaller;\n",
       "  line-height: 1em;\n",
       "  font-family: monospace;\n",
       "  background-color: var(--sklearn-color-background);\n",
       "  border-radius: 1em;\n",
       "  height: 1em;\n",
       "  width: 1em;\n",
       "  text-decoration: none !important;\n",
       "  margin-left: 1ex;\n",
       "  /* unfitted */\n",
       "  border: var(--sklearn-color-unfitted-level-1) 1pt solid;\n",
       "  color: var(--sklearn-color-unfitted-level-1);\n",
       "}\n",
       "\n",
       ".sk-estimator-doc-link.fitted,\n",
       "a:link.sk-estimator-doc-link.fitted,\n",
       "a:visited.sk-estimator-doc-link.fitted {\n",
       "  /* fitted */\n",
       "  border: var(--sklearn-color-fitted-level-1) 1pt solid;\n",
       "  color: var(--sklearn-color-fitted-level-1);\n",
       "}\n",
       "\n",
       "/* On hover */\n",
       "div.sk-estimator:hover .sk-estimator-doc-link:hover,\n",
       ".sk-estimator-doc-link:hover,\n",
       "div.sk-label-container:hover .sk-estimator-doc-link:hover,\n",
       ".sk-estimator-doc-link:hover {\n",
       "  /* unfitted */\n",
       "  background-color: var(--sklearn-color-unfitted-level-3);\n",
       "  color: var(--sklearn-color-background);\n",
       "  text-decoration: none;\n",
       "}\n",
       "\n",
       "div.sk-estimator.fitted:hover .sk-estimator-doc-link.fitted:hover,\n",
       ".sk-estimator-doc-link.fitted:hover,\n",
       "div.sk-label-container:hover .sk-estimator-doc-link.fitted:hover,\n",
       ".sk-estimator-doc-link.fitted:hover {\n",
       "  /* fitted */\n",
       "  background-color: var(--sklearn-color-fitted-level-3);\n",
       "  color: var(--sklearn-color-background);\n",
       "  text-decoration: none;\n",
       "}\n",
       "\n",
       "/* Span, style for the box shown on hovering the info icon */\n",
       ".sk-estimator-doc-link span {\n",
       "  display: none;\n",
       "  z-index: 9999;\n",
       "  position: relative;\n",
       "  font-weight: normal;\n",
       "  right: .2ex;\n",
       "  padding: .5ex;\n",
       "  margin: .5ex;\n",
       "  width: min-content;\n",
       "  min-width: 20ex;\n",
       "  max-width: 50ex;\n",
       "  color: var(--sklearn-color-text);\n",
       "  box-shadow: 2pt 2pt 4pt #999;\n",
       "  /* unfitted */\n",
       "  background: var(--sklearn-color-unfitted-level-0);\n",
       "  border: .5pt solid var(--sklearn-color-unfitted-level-3);\n",
       "}\n",
       "\n",
       ".sk-estimator-doc-link.fitted span {\n",
       "  /* fitted */\n",
       "  background: var(--sklearn-color-fitted-level-0);\n",
       "  border: var(--sklearn-color-fitted-level-3);\n",
       "}\n",
       "\n",
       ".sk-estimator-doc-link:hover span {\n",
       "  display: block;\n",
       "}\n",
       "\n",
       "/* \"?\"-specific style due to the `<a>` HTML tag */\n",
       "\n",
       "#sk-container-id-1 a.estimator_doc_link {\n",
       "  float: right;\n",
       "  font-size: 1rem;\n",
       "  line-height: 1em;\n",
       "  font-family: monospace;\n",
       "  background-color: var(--sklearn-color-background);\n",
       "  border-radius: 1rem;\n",
       "  height: 1rem;\n",
       "  width: 1rem;\n",
       "  text-decoration: none;\n",
       "  /* unfitted */\n",
       "  color: var(--sklearn-color-unfitted-level-1);\n",
       "  border: var(--sklearn-color-unfitted-level-1) 1pt solid;\n",
       "}\n",
       "\n",
       "#sk-container-id-1 a.estimator_doc_link.fitted {\n",
       "  /* fitted */\n",
       "  border: var(--sklearn-color-fitted-level-1) 1pt solid;\n",
       "  color: var(--sklearn-color-fitted-level-1);\n",
       "}\n",
       "\n",
       "/* On hover */\n",
       "#sk-container-id-1 a.estimator_doc_link:hover {\n",
       "  /* unfitted */\n",
       "  background-color: var(--sklearn-color-unfitted-level-3);\n",
       "  color: var(--sklearn-color-background);\n",
       "  text-decoration: none;\n",
       "}\n",
       "\n",
       "#sk-container-id-1 a.estimator_doc_link.fitted:hover {\n",
       "  /* fitted */\n",
       "  background-color: var(--sklearn-color-fitted-level-3);\n",
       "}\n",
       "</style><div id=\"sk-container-id-1\" class=\"sk-top-container\"><div class=\"sk-text-repr-fallback\"><pre>DecisionTreeRegressor(random_state=1)</pre><b>In a Jupyter environment, please rerun this cell to show the HTML representation or trust the notebook. <br />On GitHub, the HTML representation is unable to render, please try loading this page with nbviewer.org.</b></div><div class=\"sk-container\" hidden><div class=\"sk-item\"><div class=\"sk-estimator fitted sk-toggleable\"><input class=\"sk-toggleable__control sk-hidden--visually\" id=\"sk-estimator-id-1\" type=\"checkbox\" checked><label for=\"sk-estimator-id-1\" class=\"sk-toggleable__label fitted sk-toggleable__label-arrow fitted\">&nbsp;&nbsp;DecisionTreeRegressor<a class=\"sk-estimator-doc-link fitted\" rel=\"noreferrer\" target=\"_blank\" href=\"https://scikit-learn.org/1.4/modules/generated/sklearn.tree.DecisionTreeRegressor.html\">?<span>Documentation for DecisionTreeRegressor</span></a><span class=\"sk-estimator-doc-link fitted\">i<span>Fitted</span></span></label><div class=\"sk-toggleable__content fitted\"><pre>DecisionTreeRegressor(random_state=1)</pre></div> </div></div></div></div>"
      ],
      "text/plain": [
       "DecisionTreeRegressor(random_state=1)"
      ]
     },
     "execution_count": 11,
     "metadata": {},
     "output_type": "execute_result"
    }
   ],
   "source": [
    "from sklearn.tree import  DecisionTreeRegressor\n",
    "regressor = DecisionTreeRegressor(random_state=1)\n",
    "\n",
    "regressor.fit(X_data.values,y_data)"
   ]
  },
  {
   "cell_type": "code",
   "execution_count": 12,
   "metadata": {},
   "outputs": [],
   "source": [
    "y_pred = regressor.predict(X_data.values)\n"
   ]
  },
  {
   "cell_type": "code",
   "execution_count": 13,
   "metadata": {},
   "outputs": [
    {
     "data": {
      "text/plain": [
       "0.0026667429792429794"
      ]
     },
     "execution_count": 13,
     "metadata": {},
     "output_type": "execute_result"
    }
   ],
   "source": [
    "from sklearn.metrics import mean_squared_error\n",
    "mean_squared_error(y_data,y_pred)"
   ]
  },
  {
   "cell_type": "code",
   "execution_count": 14,
   "metadata": {},
   "outputs": [
    {
     "data": {
      "text/plain": [
       "0.9990365334527619"
      ]
     },
     "execution_count": 14,
     "metadata": {},
     "output_type": "execute_result"
    }
   ],
   "source": [
    "from sklearn.metrics import r2_score\n",
    "r2_score(y_data,y_pred)"
   ]
  },
  {
   "cell_type": "markdown",
   "metadata": {},
   "source": [
    "RANDOM FOREST"
   ]
  },
  {
   "cell_type": "code",
   "execution_count": 49,
   "metadata": {},
   "outputs": [
    {
     "data": {
      "text/plain": [
       "array([3.70874   , 4.13355   , 7.26701   , 6.64972   , 5.90297   ,\n",
       "       5.3324    , 6.27984   , 4.21646933, 3.82372   , 3.91565   ,\n",
       "       4.341022  , 3.78325   , 6.51412   , 3.6027    , 4.81655   ,\n",
       "       3.78009   , 4.02972   , 7.32395   , 1.15121   , 3.37541   ,\n",
       "       4.01032   , 4.0497    , 3.16007   , 3.14845   , 6.3336    ,\n",
       "       6.47263   , 6.86582   , 5.80692   , 4.65553   , 5.79444   ,\n",
       "       5.26874   , 3.61231667, 3.60608333, 5.76955   , 2.60851   ,\n",
       "       3.19302   , 5.52123   , 5.29228   , 6.70169   , 5.98102667,\n",
       "       4.38353   , 3.95659   , 4.67567   , 3.41589   , 4.93244143,\n",
       "       4.93244143, 3.82622667, 0.73182   , 4.76948   , 2.92659   ,\n",
       "       1.60818   , 3.46184095, 4.37915   , 5.55765   , 5.58006   ,\n",
       "       2.58674   , 2.19296   , 3.70438   , 3.20057   , 5.06316   ,\n",
       "       4.6981    , 4.062522  , 3.48057   , 3.30817   , 3.44999   ,\n",
       "       5.69792   , 5.28482   , 6.2235    , 4.57603   , 5.14067   ,\n",
       "       6.06888   , 6.25662   , 5.783812  , 3.26095   , 2.9959    ,\n",
       "       4.45724   , 4.94111   , 6.122225  , 3.89154   , 4.99937   ,\n",
       "       5.20379   , 3.96328   , 5.0715    , 6.04244   , 5.3373    ,\n",
       "       4.325     , 6.22096   , 6.06682   , 1.31778   , 3.62296   ,\n",
       "       5.34164   , 6.31891   , 6.38408   , 8.3157    , 4.81064   ,\n",
       "       3.08136   , 3.68178   , 3.57138   , 5.36676   , 0.77776   ,\n",
       "       6.1824    , 2.64761   , 3.12168   , 7.01246   , 4.02811   ,\n",
       "       2.83819   , 2.07451   , 7.87569   , 6.65344   , 8.0392    ,\n",
       "       8.03287   , 7.87844   , 7.47681   , 3.50259   , 4.91001   ,\n",
       "       6.701     , 4.6697    , 4.44322   , 6.93859   , 3.66572   ,\n",
       "       3.94021   , 4.30322   , 4.64875   , 5.64868   , 3.696785  ,\n",
       "       4.66318   , 3.6465    , 1.91039   , 5.9018    , 2.88919   ,\n",
       "       3.54452   , 5.34039   , 6.01071   , 6.43098   , 2.1654    ,\n",
       "       4.0883    , 5.50583   , 4.196635  , 3.58545   , 3.19882   ,\n",
       "       4.46093   , 3.6843    , 4.99451   , 4.64136   , 5.33064   ,\n",
       "       4.68427   , 5.14554   , 5.32094   , 5.98382   , 6.38996   ,\n",
       "       5.7173    , 3.89831   , 2.77485   , 3.59926   , 5.30310333,\n",
       "       0.98383   , 5.84969   , 6.45859   , 4.24119   , 4.53671   ,\n",
       "       3.72863   , 5.58513   , 4.26854   , 4.628802  , 0.93055   ,\n",
       "       2.78449   , 2.30258   , 5.90293   , 4.82495   , 5.32497   ,\n",
       "       7.61496   , 7.36201   , 6.93699   , 6.37601   , 5.82384   ,\n",
       "       5.40848667, 5.79244   , 5.35733667, 5.46319   , 3.57363   ,\n",
       "       4.4136    , 5.47004   , 3.89778   , 3.62636   , 4.59811   ,\n",
       "       3.84158   , 5.10826   , 6.95796   , 4.82173   , 4.46282   ,\n",
       "       5.282     , 4.46104   , 4.61189167, 3.65148   , 4.30413   ,\n",
       "       4.82736   , 4.66399   , 3.77958   , 4.25165   , 5.01434   ,\n",
       "       4.39916   , 3.68631   , 5.1845    , 3.79075   , 4.05922   ,\n",
       "       4.98022   , 3.76671   , 3.89923   , 2.87922   , 4.64047   ,\n",
       "       3.93484   , 3.18009   , 7.69938   , 2.98111   , 4.656182  ,\n",
       "       4.11076   , 3.63445   , 3.90218   , 7.92894   , 3.28887   ,\n",
       "       3.22692   , 5.97935   , 6.41988   , 5.44987   , 6.15436   ,\n",
       "       6.28574   , 6.48267   , 3.53437667, 2.87018   , 3.7204    ,\n",
       "       3.76588   , 3.46184095, 3.31387   , 3.85622333, 2.76972333,\n",
       "       3.26577   , 2.52443   , 5.39022   , 4.83095   , 5.63770167,\n",
       "       7.56298   , 8.50737   , 5.41460983, 5.14112   , 4.998383  ,\n",
       "       5.00558   , 4.938175  , 4.91574   , 8.36797   , 5.9987    ,\n",
       "       5.76265   , 4.47368   , 4.69445   , 5.21650279, 5.2956    ,\n",
       "       4.93885   , 4.91554   , 5.20748058, 4.91788833, 4.5556    ,\n",
       "       7.26638   , 5.20748058, 5.91410833, 4.35684667, 6.31913   ,\n",
       "       4.28682   , 4.97748   , 5.26003   , 4.19414   , 6.18587   ,\n",
       "       5.6515    , 7.79055   , 7.17711   , 6.02798   , 5.21745   ,\n",
       "       4.3499    , 3.97843   , 5.65093   , 5.03636   , 3.93468   ,\n",
       "       4.65853   , 3.17204   , 5.06663   , 3.10874   , 2.24244   ,\n",
       "       3.72199   , 3.75095   , 4.9173    , 5.59017   , 5.30588   ,\n",
       "       8.53413   , 8.27995   , 9.69785   , 8.33736   , 3.1342    ,\n",
       "       6.20724   , 5.66086   , 8.8303    , 9.68977   , 4.93299   ,\n",
       "       3.42325   , 3.43534   , 2.85471   , 4.38438   , 4.2082    ,\n",
       "       3.14228   , 4.21661   , 3.92772   , 3.40969   , 2.66266   ,\n",
       "       3.86879   , 5.17655529, 5.269297  , 6.12375   , 4.26059   ,\n",
       "       4.99432   , 2.47063   , 4.47115   , 2.18284   , 4.023846  ,\n",
       "       4.99987   , 7.97153   , 6.71982   , 6.54071   , 6.20067   ,\n",
       "       4.59504   , 5.17407   , 4.8083    , 5.15862   , 3.90074   ,\n",
       "       3.61584   , 1.93271   , 4.22577   , 4.50388   , 3.64517   ,\n",
       "       1.31968   , 3.72836   , 3.9157    , 4.00561   , 4.60434   ,\n",
       "       5.68328   , 4.38997   , 4.08447   , 4.68114   , 5.57916   ,\n",
       "       4.29316   , 4.184     , 4.29654   , 4.41317   , 4.87306   ,\n",
       "       3.81051   , 4.8688    , 3.08295   , 3.37042   , 3.75941333,\n",
       "       4.1041    , 3.24753   , 3.62045   , 4.47942   , 3.91087   ,\n",
       "       3.6091    , 3.72638   , 4.33461   , 4.08139   , 1.86801   ,\n",
       "       3.31738   , 2.82692   , 0.52824   , 1.01421   , 1.67597   ,\n",
       "       3.44551   , 3.34351   , 3.44708   , 3.62569   , 5.19474   ,\n",
       "       5.21650279, 4.52235   , 4.4455    , 4.02632   , 4.84809   ,\n",
       "       4.95349   , 4.72668017, 3.927685  , 4.2952    , 5.18927   ,\n",
       "       3.49876   , 5.3463    , 6.01318667, 6.09944   , 6.53166   ,\n",
       "       5.87727   , 3.93446   , 3.15469   , 4.80197   , 4.17392   ,\n",
       "       4.1325    , 4.19645   , 3.42849   , 4.96662   , 3.45675   ,\n",
       "       4.72661   , 4.49781   , 3.76634   , 4.15069   , 4.37438   ,\n",
       "       4.27133   , 4.95333   , 4.42773   , 3.96223667, 4.35855   ,\n",
       "       4.52755667, 4.54593   , 3.764     , 4.09783   , 4.29506   ,\n",
       "       4.87578   , 5.13429   , 4.91744   , 4.73327   , 4.9302875 ,\n",
       "       6.1431    , 6.24893   , 5.67641   , 6.30039   , 4.97001   ,\n",
       "       6.0969    , 4.26671   , 3.71503083, 4.89273   , 3.71503083,\n",
       "       5.03224   , 5.41209   , 3.95994   , 2.58654   , 3.25885   ,\n",
       "       4.8174    , 3.81754   , 4.4374    , 3.860846  , 4.88526   ,\n",
       "       1.71281   , 4.72379   , 5.38138   , 3.57755   , 1.62975   ,\n",
       "       3.34092   , 5.18182   , 3.25002   , 5.09601   , 4.73326833,\n",
       "       3.82619   , 5.52983   , 5.54169   , 6.36493   , 3.67302   ,\n",
       "       5.04796   , 7.36102   , 4.94682   , 6.30485   , 5.39036   ,\n",
       "       3.97713   , 6.11065   , 3.97032   , 2.77753   , 5.2315525 ,\n",
       "       3.86239   , 3.9265    , 2.05992   , 6.13134   , 6.27986   ,\n",
       "       7.26032333, 8.36037   , 4.23959   , 2.6689    , 5.69376   ,\n",
       "       4.8022    , 2.21573   , 5.96164   , 5.09831   , 3.68915   ,\n",
       "       5.60752   , 5.99496   , 4.3276    , 5.31907   , 3.71854   ,\n",
       "       6.66688   , 6.13553   , 6.48605   , 6.61552   , 3.86042   ,\n",
       "       1.90365   , 4.777165  , 6.2071    , 4.34604   , 4.06529   ,\n",
       "       4.22739167, 3.22259   , 5.21019   , 5.77624   , 3.54178   ,\n",
       "       3.07741762, 3.0957    , 3.00251   , 5.27413   , 5.59704667,\n",
       "       5.78891333, 5.78891333, 5.44111   , 4.37333   , 7.72515   ,\n",
       "       6.35137   , 4.95006   , 4.84142   , 5.57033   , 5.82427   ,\n",
       "       3.77038   , 5.20748058, 5.49711   , 5.94615   , 5.44776   ,\n",
       "       4.29544   , 4.58237   , 7.54267   , 4.34512   , 4.25401   ,\n",
       "       4.27125   , 4.39753   , 3.09465   , 3.66225   , 3.44522   ,\n",
       "       3.65353   , 4.64406   , 2.93346   , 2.46386   , 1.6795    ,\n",
       "       5.78891333, 4.998383  , 4.12722   , 5.83647   , 3.7969    ,\n",
       "       6.20789   , 4.78082   , 4.38369   , 6.29478   , 4.80106   ,\n",
       "       2.77182333])"
      ]
     },
     "execution_count": 49,
     "metadata": {},
     "output_type": "execute_result"
    }
   ],
   "source": [
    "from sklearn.ensemble import RandomForestRegressor\n",
    "forestmodel = RandomForestRegressor()\n",
    "forestmodel.fit(X_data.values,y_data)\n",
    "predict3 = forestmodel.predict(X_data.values)\n",
    "predict3"
   ]
  },
  {
   "cell_type": "code",
   "execution_count": 50,
   "metadata": {},
   "outputs": [
    {
     "data": {
      "text/plain": [
       "0.1817474565443338"
      ]
     },
     "execution_count": 50,
     "metadata": {},
     "output_type": "execute_result"
    }
   ],
   "source": [
    "from sklearn.metrics import mean_squared_error\n",
    "mean_squared_error(y_data,predict3)"
   ]
  },
  {
   "cell_type": "code",
   "execution_count": 51,
   "metadata": {},
   "outputs": [
    {
     "data": {
      "text/plain": [
       "0.9343365311958977"
      ]
     },
     "execution_count": 51,
     "metadata": {},
     "output_type": "execute_result"
    }
   ],
   "source": [
    "from sklearn.metrics import  r2_score\n",
    "r2_score(y_data,predict3)"
   ]
  },
  {
   "cell_type": "code",
   "execution_count": 15,
   "metadata": {},
   "outputs": [
    {
     "data": {
      "text/plain": [
       "['./../savedModels/model2.joblib']"
      ]
     },
     "execution_count": 15,
     "metadata": {},
     "output_type": "execute_result"
    }
   ],
   "source": [
    "from joblib import dump\n",
    "dump(regressor,'./../savedModels/model2.joblib')"
   ]
  },
  {
   "cell_type": "markdown",
   "metadata": {},
   "source": [
    "CONCLUSION"
   ]
  },
  {
   "cell_type": "code",
   "execution_count": 16,
   "metadata": {},
   "outputs": [],
   "source": [
    "import time \n",
    "start_time=time.time()\n",
    "Linear= LinearRegression().fit(X_data,y_data)\n",
    "training_time_linear=time.time()-start_time"
   ]
  },
  {
   "cell_type": "code",
   "execution_count": 17,
   "metadata": {},
   "outputs": [
    {
     "name": "stderr",
     "output_type": "stream",
     "text": [
      "c:\\Users\\mynam\\AppData\\Local\\Programs\\Python\\Python311\\Lib\\site-packages\\sklearn\\base.py:493: UserWarning: X does not have valid feature names, but LinearRegression was fitted with feature names\n",
      "  warnings.warn(\n"
     ]
    }
   ],
   "source": [
    "Linear_train_rscore=Linear.score(X_data.values,y_data)\n",
    "Linear_train_pred=Linear.predict(X_data)\n",
    "Linear_train_rmse=np.sqrt(mean_squared_error(y_data,Linear_train_pred))"
   ]
  },
  {
   "cell_type": "code",
   "execution_count": 18,
   "metadata": {},
   "outputs": [
    {
     "name": "stdout",
     "output_type": "stream",
     "text": [
      "R squared for Training data:  0.4861388232902434\n",
      "Root Mean Squared Error for Training data:  1.1926009850582082\n"
     ]
    }
   ],
   "source": [
    "print(\"R squared for Training data: \",Linear_train_rscore)\n",
    "print(\"Root Mean Squared Error for Training data: \", Linear_train_rmse)"
   ]
  },
  {
   "cell_type": "code",
   "execution_count": 22,
   "metadata": {},
   "outputs": [
    {
     "name": "stderr",
     "output_type": "stream",
     "text": [
      "c:\\Users\\mynam\\AppData\\Local\\Programs\\Python\\Python311\\Lib\\site-packages\\sklearn\\base.py:493: UserWarning: X does not have valid feature names, but LinearRegression was fitted with feature names\n",
      "  warnings.warn(\n"
     ]
    }
   ],
   "source": [
    "from sklearn.metrics import mean_absolute_error\n",
    "Linear_test_rscore=Linear.score(X_data.values,y_data)\n",
    "start_time2=time.time()\n",
    "Linear_test_pred=Linear.predict(X_data)\n",
    "testing_time_linear=time.time()-start_time2\n",
    "Linear_test_rmse=np.sqrt(mean_squared_error(y_data,Linear_test_pred))\n",
    "Linear_test_mae=mean_absolute_error(y_data,Linear_test_pred)"
   ]
  },
  {
   "cell_type": "code",
   "execution_count": 23,
   "metadata": {},
   "outputs": [
    {
     "name": "stdout",
     "output_type": "stream",
     "text": [
      "R squared for Testing data:  0.4861388232902434\n",
      "Root Mean Squared Error for Testing data:  1.1926009850582082\n",
      "Mean Absolute Error for Testing data:  0.9013585137801045\n"
     ]
    }
   ],
   "source": [
    "print(\"R squared for Testing data: \",Linear_test_rscore)\n",
    "print(\"Root Mean Squared Error for Testing data: \", Linear_test_rmse)\n",
    "print(\"Mean Absolute Error for Testing data: \", Linear_test_mae)"
   ]
  },
  {
   "cell_type": "code",
   "execution_count": 25,
   "metadata": {},
   "outputs": [],
   "source": [
    "def Linear_Regression():\n",
    "    return{'Regressor Model':'Linear Regressor',\n",
    "          'Predictions':Linear_test_pred,\n",
    "          'R Squared': Linear_test_rscore,\n",
    "          'Mean Absolute Error':Linear_test_mae,\n",
    "          'Root Mean Squared Error':Linear_test_rmse,\n",
    "          'Training Time': training_time_linear,\n",
    "          'Prediction Time':testing_time_linear\n",
    "    }"
   ]
  },
  {
   "cell_type": "code",
   "execution_count": 26,
   "metadata": {},
   "outputs": [],
   "source": [
    "start_time = time.time()\n",
    "Decision = DecisionTreeRegressor(random_state=1).fit(X_data.values,y_data)\n",
    "training_time_decision  = time.time()-start_time"
   ]
  },
  {
   "cell_type": "code",
   "execution_count": 27,
   "metadata": {},
   "outputs": [],
   "source": [
    "Decision_train_rscore=Decision.score(X_data.values,y_data)\n",
    "Decision_train_pred = Decision.predict(X_data.values)\n",
    "Decision_train_rmse = np.sqrt(mean_squared_error(y_data,Decision_train_pred))"
   ]
  },
  {
   "cell_type": "code",
   "execution_count": 28,
   "metadata": {},
   "outputs": [
    {
     "name": "stdout",
     "output_type": "stream",
     "text": [
      "R squared for Training data:  0.9990365334527619\n",
      "Root Mean Squared Error for Training data:  0.051640516837488944\n"
     ]
    }
   ],
   "source": [
    "print(\"R squared for Training data: \",Decision_train_rscore)\n",
    "print(\"Root Mean Squared Error for Training data: \", Decision_train_rmse)"
   ]
  },
  {
   "cell_type": "code",
   "execution_count": 29,
   "metadata": {},
   "outputs": [
    {
     "name": "stderr",
     "output_type": "stream",
     "text": [
      "c:\\Users\\mynam\\AppData\\Local\\Programs\\Python\\Python311\\Lib\\site-packages\\sklearn\\base.py:486: UserWarning: X has feature names, but DecisionTreeRegressor was fitted without feature names\n",
      "  warnings.warn(\n",
      "c:\\Users\\mynam\\AppData\\Local\\Programs\\Python\\Python311\\Lib\\site-packages\\sklearn\\base.py:486: UserWarning: X has feature names, but DecisionTreeRegressor was fitted without feature names\n",
      "  warnings.warn(\n"
     ]
    }
   ],
   "source": [
    "Decision_test_rscore=Decision.score(X_data,y_data)\n",
    "start_time2=time.time()\n",
    "Decision_test_pred = Decision.predict(X_data)\n",
    "testing_time_Decision=time.time()-start_time2\n",
    "Decision_test_rmse=np.sqrt(mean_squared_error(y_data,Decision_test_pred))\n",
    "Decision_test_mae= mean_absolute_error(y_data,Decision_test_pred)"
   ]
  },
  {
   "cell_type": "code",
   "execution_count": 30,
   "metadata": {},
   "outputs": [
    {
     "name": "stdout",
     "output_type": "stream",
     "text": [
      "R squared for Testing data:  0.9990365334527619\n",
      "Root Mean Squared Error for Testing data:  0.051640516837488944\n",
      "Mean Absolute Error for Testing data:  0.007825396825396826\n"
     ]
    }
   ],
   "source": [
    "print(\"R squared for Testing data: \",Decision_test_rscore)\n",
    "print(\"Root Mean Squared Error for Testing data: \", Decision_test_rmse)\n",
    "print(\"Mean Absolute Error for Testing data: \", Decision_test_mae)"
   ]
  },
  {
   "cell_type": "code",
   "execution_count": 31,
   "metadata": {},
   "outputs": [],
   "source": [
    "def Decision():\n",
    "    return{'Regressor Model':'Decision Tree Regressor',\n",
    "          'Predictions':Decision_test_pred,\n",
    "          'R Squared': Decision_test_rscore,\n",
    "          'Mean Absolute Error':Decision_test_mae,\n",
    "          'Root Mean Squared Error':Decision_test_rmse,\n",
    "          'Training Time': training_time_decision,\n",
    "          'Prediction Time':testing_time_Decision\n",
    "\n",
    "    }"
   ]
  },
  {
   "cell_type": "code",
   "execution_count": 34,
   "metadata": {},
   "outputs": [],
   "source": [
    "from sklearn.ensemble import RandomForestRegressor\n",
    "start_time = time.time()\n",
    "rf = RandomForestRegressor(max_depth=6,max_features=0.4).fit(X_data.values,y_data)\n",
    "training_time_rf= time.time()-start_time"
   ]
  },
  {
   "cell_type": "code",
   "execution_count": 35,
   "metadata": {},
   "outputs": [
    {
     "name": "stderr",
     "output_type": "stream",
     "text": [
      "c:\\Users\\mynam\\AppData\\Local\\Programs\\Python\\Python311\\Lib\\site-packages\\sklearn\\base.py:486: UserWarning: X has feature names, but RandomForestRegressor was fitted without feature names\n",
      "  warnings.warn(\n",
      "c:\\Users\\mynam\\AppData\\Local\\Programs\\Python\\Python311\\Lib\\site-packages\\sklearn\\base.py:486: UserWarning: X has feature names, but RandomForestRegressor was fitted without feature names\n",
      "  warnings.warn(\n"
     ]
    }
   ],
   "source": [
    "from sklearn.metrics import  mean_squared_error\n",
    "rf_train_rscore = rf.score(X_data,y_data)\n",
    "rf_train_pred = rf.predict(X_data)\n",
    "rf_train_rmse = np.sqrt(mean_squared_error(y_data,rf_train_pred))"
   ]
  },
  {
   "cell_type": "code",
   "execution_count": 36,
   "metadata": {},
   "outputs": [
    {
     "name": "stdout",
     "output_type": "stream",
     "text": [
      "R squared for dataset: 0.7647715174955718\n",
      "Roor mean squared Error for data:  0.8068953517213218\n"
     ]
    }
   ],
   "source": [
    "print(\"R squared for dataset:\" ,rf_train_rscore)\n",
    "print(\"Roor mean squared Error for data: \", rf_train_rmse)"
   ]
  },
  {
   "cell_type": "code",
   "execution_count": 37,
   "metadata": {},
   "outputs": [
    {
     "name": "stderr",
     "output_type": "stream",
     "text": [
      "c:\\Users\\mynam\\AppData\\Local\\Programs\\Python\\Python311\\Lib\\site-packages\\sklearn\\base.py:486: UserWarning: X has feature names, but RandomForestRegressor was fitted without feature names\n",
      "  warnings.warn(\n"
     ]
    }
   ],
   "source": [
    "from sklearn.metrics import  mean_absolute_error \n",
    "rf_test_rscore=rf.score(X_data,y_data)\n",
    "start_time2=time.time()\n",
    "rf_test_pred=rf.predict(X_data.values)\n",
    "testing_time_rf=time.time()-start_time2\n",
    "rf_test_rmse = np.sqrt(mean_squared_error(y_data,rf_test_pred))\n",
    "rf_test_mae = mean_absolute_error(y_data,rf_test_pred)"
   ]
  },
  {
   "cell_type": "code",
   "execution_count": 38,
   "metadata": {},
   "outputs": [
    {
     "name": "stdout",
     "output_type": "stream",
     "text": [
      "R squared for Testing data:  0.7647715174955718\n",
      "Root Mean Squared Error for Testing data:  0.8068953517213218\n",
      "Mean Absolute Error for Testing data:  0.6161862827898116\n"
     ]
    }
   ],
   "source": [
    "print(\"R squared for Testing data: \",rf_test_rscore)\n",
    "print(\"Root Mean Squared Error for Testing data: \", rf_test_rmse)\n",
    "print(\"Mean Absolute Error for Testing data: \", rf_test_mae)"
   ]
  },
  {
   "cell_type": "code",
   "execution_count": 39,
   "metadata": {},
   "outputs": [],
   "source": [
    "def RF():\n",
    "  return {'Regressor Model':'Random Forest Regressor',\n",
    "          'Predictions':rf_test_pred,\n",
    "          'R Squared': rf_test_rscore,\n",
    "          'Mean Absolute Error':rf_test_mae,\n",
    "          'Root Mean Squared Error':rf_test_rmse,\n",
    "          'Training Time': training_time_rf,\n",
    "          'Prediction Time':testing_time_rf}"
   ]
  },
  {
   "cell_type": "code",
   "execution_count": 40,
   "metadata": {},
   "outputs": [],
   "source": [
    "models={}"
   ]
  },
  {
   "cell_type": "code",
   "execution_count": 41,
   "metadata": {},
   "outputs": [],
   "source": [
    "models[1]=RF()\n",
    "models[2]=Decision()\n",
    "models[3]=Linear_Regression()"
   ]
  },
  {
   "cell_type": "code",
   "execution_count": 42,
   "metadata": {},
   "outputs": [
    {
     "data": {
      "text/plain": [
       "{1: {'Regressor Model': 'Random Forest Regressor',\n",
       "  'Predictions': array([3.64784981, 3.74458888, 7.03312174, 6.53532777, 5.7925738 ,\n",
       "         4.69650342, 4.93285599, 4.62396596, 3.70800469, 3.87905515,\n",
       "         4.12930555, 3.63994613, 5.91641051, 3.41944682, 4.88743832,\n",
       "         4.27335973, 3.5646333 , 6.56859286, 1.81558933, 3.30009914,\n",
       "         4.42623722, 3.95924953, 3.41210854, 3.73731637, 6.40277806,\n",
       "         6.23374793, 6.62839655, 4.97028563, 4.75787633, 5.77736445,\n",
       "         5.41303786, 3.60737563, 3.64969812, 5.12414382, 3.03277202,\n",
       "         3.6117923 , 5.30305649, 5.56059047, 6.26470187, 5.50300564,\n",
       "         4.68413462, 4.46636931, 4.73745279, 4.05491946, 4.50446997,\n",
       "         4.50446997, 4.45238418, 1.21052879, 4.76991725, 2.92586771,\n",
       "         2.10619961, 3.61382074, 4.96675301, 4.87140095, 4.9896144 ,\n",
       "         3.38985472, 2.24283047, 3.67028369, 3.08235275, 5.3348057 ,\n",
       "         4.69152789, 4.06589464, 3.42452173, 3.92160476, 3.92936488,\n",
       "         5.78642255, 5.69739579, 6.13009974, 4.32863136, 5.03747087,\n",
       "         5.93556705, 5.94661335, 5.25959579, 3.76814516, 3.46091869,\n",
       "         4.55963867, 4.56340908, 4.7024138 , 4.1490902 , 5.18820947,\n",
       "         5.28812941, 4.02277912, 5.12047379, 5.67667883, 4.95246261,\n",
       "         4.33880794, 6.10237789, 6.01009647, 1.81688235, 3.5215722 ,\n",
       "         4.60857802, 5.72463428, 5.3693912 , 7.14196529, 4.44748009,\n",
       "         3.58408504, 4.34324145, 4.15884303, 4.61933204, 1.14008633,\n",
       "         6.05915625, 2.61973563, 3.30029422, 6.34221287, 4.57781126,\n",
       "         3.69709503, 2.26063807, 7.13742904, 6.33163828, 6.90634987,\n",
       "         7.06560917, 6.41500208, 6.48296355, 3.90727726, 4.97877371,\n",
       "         6.11528875, 4.36472727, 4.41930031, 6.03052661, 4.0285126 ,\n",
       "         3.95086685, 4.09392334, 5.1063543 , 4.73728728, 4.17290233,\n",
       "         4.59453155, 3.84573422, 2.00176828, 5.44588594, 3.1740002 ,\n",
       "         3.67427195, 5.46451151, 5.57045499, 5.14813104, 2.57753201,\n",
       "         4.26877459, 4.6625976 , 4.30865379, 4.3033779 , 3.75944595,\n",
       "         4.32829648, 3.68662336, 4.69441747, 4.60403636, 5.08482336,\n",
       "         4.36496446, 4.40088215, 4.84282885, 4.74473696, 5.08859684,\n",
       "         4.91626507, 3.78154102, 3.42828239, 4.02712401, 4.50558873,\n",
       "         1.17852831, 5.87355515, 6.32370684, 4.03615468, 4.48213318,\n",
       "         4.19962258, 5.49469169, 4.68564365, 5.05965737, 1.51733772,\n",
       "         2.92635838, 2.39831664, 5.04619292, 4.53416389, 5.08536258,\n",
       "         6.92142601, 6.71091718, 6.38642591, 5.64311603, 4.98303871,\n",
       "         4.8197795 , 5.56282398, 4.8197795 , 4.50851923, 4.40968331,\n",
       "         4.53036155, 4.49777458, 4.30896985, 4.13474492, 4.48883258,\n",
       "         4.30896985, 4.65518738, 6.53723723, 4.6648588 , 4.49225109,\n",
       "         4.93890459, 4.46872618, 4.51764429, 4.20116967, 4.41572483,\n",
       "         4.92865433, 4.48810291, 4.33486301, 4.5705794 , 5.08911959,\n",
       "         4.68247565, 4.18005986, 4.64096087, 4.31386928, 4.38367766,\n",
       "         5.10866431, 4.14336043, 4.27122037, 3.53091733, 4.65321158,\n",
       "         3.78525198, 3.4427925 , 6.7559767 , 3.52655901, 4.36273032,\n",
       "         3.90882713, 3.67799406, 3.72853234, 7.23305563, 3.5028238 ,\n",
       "         3.47394956, 5.06961795, 6.15732281, 5.70836495, 6.06190515,\n",
       "         6.23703871, 6.44321234, 3.62151688, 3.45019964, 3.69787656,\n",
       "         3.67467329, 3.61382074, 3.20104971, 3.6610944 , 3.48843224,\n",
       "         4.04953668, 2.83467289, 5.56339444, 5.19361503, 5.50340754,\n",
       "         7.25583698, 7.6252213 , 4.9143662 , 5.54648944, 4.97554884,\n",
       "         5.63705196, 5.04802572, 4.97554884, 7.5946213 , 6.26008813,\n",
       "         5.8829239 , 4.71016414, 4.94024925, 4.56299212, 5.09483558,\n",
       "         5.40939481, 5.23694709, 4.94633691, 4.79334721, 4.71016414,\n",
       "         7.03123875, 4.94633691, 5.6555754 , 4.53358443, 5.81889929,\n",
       "         4.57911477, 4.8600259 , 5.77220153, 4.43106238, 6.30667545,\n",
       "         5.84436519, 7.12692946, 6.96156132, 5.78717556, 5.24825   ,\n",
       "         4.58819499, 4.42480764, 5.84436519, 5.26779472, 3.96526166,\n",
       "         4.54739068, 3.66344412, 5.32289712, 3.76153135, 2.55962571,\n",
       "         3.81554927, 3.71474012, 5.42752647, 5.05894485, 5.5740053 ,\n",
       "         8.66831279, 8.18944737, 9.25670978, 8.3513426 , 3.5684746 ,\n",
       "         6.05703759, 5.36868867, 8.69327945, 9.11500303, 5.04290462,\n",
       "         3.75609848, 3.75732987, 3.18249194, 4.1486362 , 4.55391138,\n",
       "         4.11476706, 4.2779388 , 4.27413401, 3.49220201, 2.82220745,\n",
       "         3.81738448, 4.94633691, 5.04802572, 4.86512338, 4.1991284 ,\n",
       "         4.36852147, 3.47928733, 4.57624008, 2.15974556, 4.10715604,\n",
       "         4.63536591, 7.50670105, 5.50137713, 5.84003659, 6.24938131,\n",
       "         4.20890053, 4.50444941, 4.85625878, 5.11208863, 3.70604016,\n",
       "         3.71920017, 2.26595137, 4.34326054, 4.35535572, 3.51836506,\n",
       "         1.56435632, 3.84552971, 4.14632192, 4.19460613, 5.10358468,\n",
       "         5.93936251, 4.27253453, 4.22588526, 4.95176985, 5.31749418,\n",
       "         4.250025  , 4.39975408, 5.05377096, 4.95225564, 5.15953894,\n",
       "         4.4324359 , 5.0688433 , 3.50599586, 4.05757326, 4.09497567,\n",
       "         4.17607247, 3.77143543, 3.82956799, 4.89917587, 3.98972601,\n",
       "         3.62077282, 4.03376114, 4.51495809, 4.10361823, 2.19414231,\n",
       "         3.76485557, 2.8646126 , 1.23696285, 1.55634326, 2.26438205,\n",
       "         3.82265457, 3.72223354, 3.73036871, 3.78622597, 4.6094674 ,\n",
       "         4.56299212, 4.56170159, 4.5662763 , 4.19460613, 5.00044859,\n",
       "         4.97218409, 4.60700525, 4.00055081, 4.51219125, 4.98996132,\n",
       "         3.5653052 , 5.29334708, 5.36730387, 5.22669603, 6.30544337,\n",
       "         5.08737276, 4.29587871, 3.80524882, 4.76564107, 3.93941903,\n",
       "         4.25833485, 4.078232  , 3.9331611 , 4.68880563, 3.83055045,\n",
       "         4.42566252, 4.97092174, 4.14754605, 4.3873862 , 4.30892657,\n",
       "         4.68741524, 4.79212454, 4.28275372, 4.5044182 , 4.3873862 ,\n",
       "         4.53358443, 4.70670414, 4.34586015, 4.38367766, 5.1417109 ,\n",
       "         4.84340072, 5.23268736, 5.30733042, 4.8679949 , 4.47547028,\n",
       "         6.1855999 , 6.09504626, 5.86844826, 5.91097517, 5.46008384,\n",
       "         6.01942001, 4.65045529, 4.3636776 , 5.14263   , 4.3636776 ,\n",
       "         5.55524082, 5.5264745 , 4.40867568, 3.30293416, 3.55325642,\n",
       "         4.60309101, 3.9610128 , 4.21945873, 4.45238418, 3.56430061,\n",
       "         2.23245898, 4.56804779, 5.32169567, 3.59041792, 2.10968396,\n",
       "         4.26957655, 4.78417633, 3.65746435, 5.03635109, 4.3806723 ,\n",
       "         3.51228467, 5.25565577, 5.39784328, 6.22544539, 4.34042369,\n",
       "         5.19237979, 6.44762302, 5.08053134, 6.25789517, 5.19280955,\n",
       "         4.6275753 , 6.30225045, 3.84054793, 2.60673027, 4.61619527,\n",
       "         4.21016029, 4.35854131, 2.14971822, 6.1831898 , 5.9544603 ,\n",
       "         6.56873905, 6.97553782, 4.28164728, 2.87606956, 5.85701142,\n",
       "         4.38805697, 2.4160056 , 4.683703  , 4.6276806 , 3.61465108,\n",
       "         5.43890513, 5.95977654, 4.56550808, 4.58631169, 4.39249494,\n",
       "         5.49758099, 6.30656679, 6.02851208, 5.91401434, 4.34869885,\n",
       "         2.12466137, 4.79097257, 6.04458263, 4.46872618, 4.38993239,\n",
       "         4.523883  , 3.81193573, 4.61463996, 6.10355885, 3.61147438,\n",
       "         3.61845122, 3.63584846, 3.45329701, 5.36084841, 5.45255842,\n",
       "         5.46899834, 5.46899834, 5.50832716, 4.70670414, 7.30501819,\n",
       "         6.2499123 , 5.02678742, 5.07600983, 5.81746108, 5.11506806,\n",
       "         3.83381058, 4.94633691, 5.28105111, 4.86868883, 4.84236792,\n",
       "         4.25311203, 4.72054108, 6.87611246, 3.44248473, 4.35216387,\n",
       "         4.58830647, 4.29491972, 3.32604441, 4.10423225, 3.65871451,\n",
       "         3.44550123, 4.78313962, 3.39444765, 2.11863026, 2.03765097,\n",
       "         5.46899834, 4.97554884, 4.79690354, 5.52520894, 4.42480764,\n",
       "         6.09504626, 4.94752647, 5.22727039, 6.14079046, 4.96785976,\n",
       "         3.60485431]),\n",
       "  'R Squared': 0.7647715174955718,\n",
       "  'Mean Absolute Error': 0.6161862827898116,\n",
       "  'Root Mean Squared Error': 0.8068953517213218,\n",
       "  'Training Time': 0.14493584632873535,\n",
       "  'Prediction Time': 0.009000062942504883},\n",
       " 2: {'Regressor Model': 'Decision Tree Regressor',\n",
       "  'Predictions': array([ 3.74      ,  4.33      ,  7.019     ,  6.723     ,  5.979     ,\n",
       "          6.064     ,  7.337     ,  4.1       ,  3.941     ,  3.809     ,\n",
       "          4.34      ,  3.93      ,  7.371     ,  3.78      ,  4.112     ,\n",
       "          3.533     ,  4.632     ,  7.693     ,  0.673     ,  3.323     ,\n",
       "          2.955     ,  4.216     ,  2.593     ,  2.272     ,  5.96      ,\n",
       "          6.537     ,  7.1       ,  6.424     ,  4.355     ,  5.721     ,\n",
       "          5.102     ,  3.718     ,  3.577     ,  6.458     ,  2.352     ,\n",
       "          2.958     ,  5.44      ,  4.838     ,  6.858     ,  6.36      ,\n",
       "          4.301     ,  3.772     ,  4.179     ,  3.061     ,  5.12      ,\n",
       "          5.12      ,  3.522     ,  0.55      ,  4.714     ,  3.17      ,\n",
       "          1.22      ,  3.485     ,  3.725     ,  6.        ,  6.32      ,\n",
       "          2.201     ,  2.815     ,  3.819     ,  3.16      ,  4.72      ,\n",
       "          4.333     ,  3.87      ,  3.358     ,  3.08      ,  3.115     ,\n",
       "          5.749     ,  4.55      ,  6.383     ,  4.34      ,  4.85      ,\n",
       "          6.064     ,  6.36      ,  6.074     ,  3.226     ,  2.626     ,\n",
       "          4.474     ,  5.429     ,  6.848     ,  3.85      ,  4.878     ,\n",
       "          5.19      ,  3.7       ,  5.291     ,  6.042     ,  5.548     ,\n",
       "          4.608     ,  6.188     ,  6.24      ,  0.935     ,  3.25      ,\n",
       "          6.102     ,  6.579     ,  7.044     ,  9.14      ,  5.308     ,\n",
       "          2.838     ,  3.351     ,  3.331     ,  6.447     ,  0.59      ,\n",
       "          5.03      ,  2.827     ,  2.899     ,  8.349     ,  3.603     ,\n",
       "          2.668     ,  1.73      ,  9.141     ,  6.442     ,  8.564     ,\n",
       "          8.15      ,  8.849     ,  8.207     ,  3.072     ,  5.036     ,\n",
       "          7.483     ,  5.562     ,  4.437     ,  7.128     ,  3.277     ,\n",
       "          3.795     ,  4.602     ,  4.307     ,  6.13      ,  3.481     ,\n",
       "          4.632     ,  3.432     ,  1.601     ,  7.037     ,  2.232     ,\n",
       "          3.392     ,  4.858     ,  6.059     ,  7.378     ,  1.43      ,\n",
       "          3.573     ,  6.43      ,  4.385     ,  3.298     ,  2.685     ,\n",
       "          4.733     ,  3.674     ,  5.47      ,  5.76      ,  5.13      ,\n",
       "          5.12      ,  5.9       ,  5.551     ,  6.52      ,  6.883     ,\n",
       "          5.942     ,  3.979     ,  2.188     ,  3.008     ,  5.79      ,\n",
       "          0.989     ,  5.742     ,  6.756     ,  4.33      ,  4.652     ,\n",
       "          3.77      ,  5.475     ,  3.536     ,  4.339     ,  0.59      ,\n",
       "          2.511     ,  1.888     ,  7.699     ,  4.107     ,  6.618     ,\n",
       "          7.671     ,  7.341     ,  7.858     ,  7.012     ,  6.176     ,\n",
       "          5.527     ,  5.636     ,  5.372     ,  5.571     ,  3.155     ,\n",
       "          3.594     ,  5.642     ,  3.48      ,  3.432     ,  4.011     ,\n",
       "          3.68      ,  5.132     ,  6.79      ,  4.485     ,  4.288     ,\n",
       "          5.45      ,  4.53      ,  4.765     ,  3.524     ,  4.14      ,\n",
       "          4.317     ,  4.933     ,  3.71      ,  3.618     ,  4.98      ,\n",
       "          4.025     ,  3.653     ,  5.168     ,  3.76      ,  4.04      ,\n",
       "          5.001     ,  3.791     ,  3.863     ,  2.359     ,  4.756     ,\n",
       "          4.002     ,  3.28      ,  8.067     ,  2.576     ,  4.927     ,\n",
       "          4.186     ,  3.46      ,  3.954     ,  8.271     ,  3.643     ,\n",
       "          3.254     ,  6.72      ,  6.508     ,  5.3       ,  6.21      ,\n",
       "          6.777     ,  6.623     ,  3.485     ,  2.642     ,  3.655     ,\n",
       "          3.842     ,  3.485     ,  3.587     ,  4.322     ,  2.49      ,\n",
       "          2.937     ,  3.044     ,  5.6       ,  4.75      ,  5.56      ,\n",
       "          7.61      ,  8.78      ,  5.632     ,  4.874     ,  4.978     ,\n",
       "          4.674     ,  4.761     ,  4.864     ,  8.44      ,  5.64      ,\n",
       "          5.878     ,  4.434     ,  4.257     ,  5.2715    ,  5.42      ,\n",
       "          4.713     ,  4.83      ,  5.203     ,  4.797     ,  4.66      ,\n",
       "          6.989     ,  5.203     ,  6.109     ,  4.268     ,  6.65      ,\n",
       "          4.138     ,  4.992     ,  4.711     ,  4.31      ,  6.209     ,\n",
       "          5.626     ,  8.16      ,  6.99      ,  6.212     ,  5.5       ,\n",
       "          4.304     ,  3.84      ,  5.641     ,  5.009     ,  3.918     ,\n",
       "          4.787     ,  2.572     ,  4.9       ,  3.028     ,  2.018     ,\n",
       "          3.716     ,  3.742     ,  4.579     ,  5.754     ,  4.835     ,\n",
       "          8.582     ,  8.678     ,  9.945     ,  9.063     ,  2.533     ,\n",
       "          6.475     ,  6.251     ,  9.133     , 10.047     ,  4.92      ,\n",
       "          3.34      ,  2.928     ,  2.649     ,  4.27      ,  4.234     ,\n",
       "          2.348     ,  3.884     ,  3.476     ,  3.133     ,  3.358     ,\n",
       "          3.775     ,  5.16      ,  5.43      ,  6.409     ,  4.263     ,\n",
       "          5.371     ,  2.072     ,  4.404     ,  2.332     ,  4.018     ,\n",
       "          5.301     ,  8.112     ,  7.802     ,  7.478     ,  6.394     ,\n",
       "          5.001     ,  5.545     ,  4.249     ,  5.17      ,  3.769     ,\n",
       "          3.508     ,  1.188     ,  3.884     ,  4.566     ,  3.788     ,\n",
       "          0.704     ,  3.669     ,  3.976     ,  4.024     ,  4.403     ,\n",
       "          5.512     ,  4.225     ,  4.072     ,  4.57      ,  6.075     ,\n",
       "          4.221     ,  4.032     ,  3.22      ,  4.001     ,  4.501     ,\n",
       "          3.599     ,  4.56      ,  2.736     ,  3.047     ,  3.783     ,\n",
       "          4.187     ,  3.068     ,  3.644     ,  4.01      ,  3.917     ,\n",
       "          3.902     ,  3.277     ,  4.305     ,  3.961     ,  1.82      ,\n",
       "          3.002     ,  2.957     ,  0.122     ,  1.07      ,  1.53      ,\n",
       "          3.077     ,  3.025     ,  3.088     ,  3.177     ,  5.291     ,\n",
       "          5.2715    ,  4.464     ,  4.426     ,  4.016     ,  4.668     ,\n",
       "          4.962     ,  4.61      ,  3.85      ,  4.238     ,  5.38      ,\n",
       "          3.589     ,  4.932     ,  6.099     ,  6.54      ,  6.399     ,\n",
       "          6.131     ,  4.56      ,  2.54      ,  4.494     ,  3.758     ,\n",
       "          4.168     ,  3.85      ,  3.339     ,  5.441     ,  3.138     ,\n",
       "          4.79      ,  4.39      ,  3.43      ,  3.978     ,  4.489     ,\n",
       "          3.718     ,  5.402     ,  4.606     ,  3.591     ,  4.558     ,\n",
       "          4.611     ,  4.62      ,  3.615     ,  4.14      ,  3.575     ,\n",
       "          5.01      ,  5.433     ,  4.909     ,  4.7       ,  5.069     ,\n",
       "          6.004     ,  6.281     ,  5.406     ,  6.7       ,  4.737     ,\n",
       "          6.027     ,  4.147     ,  3.6205    ,  4.851     ,  3.6205    ,\n",
       "          3.619     ,  5.597     ,  3.357     ,  1.815     ,  2.421     ,\n",
       "          5.054     ,  3.89      ,  4.779     ,  3.792     ,  5.993     ,\n",
       "          1.057     ,  4.886     ,  5.541     ,  3.638     ,  1.22      ,\n",
       "          2.614     ,  4.762     ,  2.829     ,  5.37      ,  4.819     ,\n",
       "          4.039     ,  5.47      ,  5.299     ,  6.194     ,  3.52      ,\n",
       "          4.862     ,  7.676     ,  4.943     ,  7.012     ,  5.548     ,\n",
       "          3.078     ,  5.976     ,  3.936     ,  3.118     ,  5.46      ,\n",
       "          3.601     ,  3.63      ,  2.09      ,  5.762     ,  6.56      ,\n",
       "          8.113     ,  9.15      ,  4.502     ,  1.983     ,  5.551     ,\n",
       "          5.418     ,  2.958     ,  6.964     ,  4.91      ,  3.825     ,\n",
       "          5.783     ,  6.389     ,  4.071     ,  6.119     ,  2.506     ,\n",
       "          9.099     ,  5.6       ,  8.028     ,  7.087     ,  3.794     ,\n",
       "          0.495     ,  4.823     ,  6.19      ,  4.3       ,  4.01      ,\n",
       "          4.038     ,  3.002     ,  5.312     ,  5.513     ,  3.492     ,\n",
       "          2.608     ,  2.778     ,  2.659     ,  5.389     ,  5.559     ,\n",
       "          5.82666667,  5.82666667,  5.55      ,  4.251     ,  7.509     ,\n",
       "          6.67      ,  5.02      ,  4.821     ,  5.422     ,  6.21      ,\n",
       "          3.839     ,  5.203     ,  5.381     ,  6.108     ,  5.19      ,\n",
       "          4.006     ,  4.535     ,  8.164     ,  4.906     ,  4.022     ,\n",
       "          3.47      ,  4.462     ,  2.764     ,  3.474     ,  3.103     ,\n",
       "          3.908     ,  4.121     ,  2.579     ,  2.959     ,  0.46      ,\n",
       "          5.82666667,  4.978     ,  3.531     ,  5.922     ,  3.64      ,\n",
       "          6.173     ,  4.651     ,  3.953     ,  6.219     ,  4.995     ,\n",
       "          2.48      ]),\n",
       "  'R Squared': 0.9990365334527619,\n",
       "  'Mean Absolute Error': 0.007825396825396826,\n",
       "  'Root Mean Squared Error': 0.051640516837488944,\n",
       "  'Training Time': 0.0069048404693603516,\n",
       "  'Prediction Time': 0.008541345596313477},\n",
       " 3: {'Regressor Model': 'Linear Regressor',\n",
       "  'Predictions': array([4.02651844, 4.23466335, 6.59919153, 6.41759744, 5.61917854,\n",
       "         5.47639465, 4.52605964, 4.79743243, 3.83192135, 3.98077932,\n",
       "         4.20804822, 3.00978536, 5.71719567, 2.74653989, 6.79063626,\n",
       "         4.45705208, 3.37429358, 6.34957967, 2.55529153, 2.90007472,\n",
       "         5.6230329 , 3.67106077, 4.24130909, 3.63523615, 8.53053468,\n",
       "         6.94112398, 7.25426042, 4.77658453, 4.86079096, 5.43967513,\n",
       "         5.25099581, 4.01639408, 3.61472304, 5.43148002, 3.13885466,\n",
       "         3.91877236, 6.46025979, 6.20276671, 6.16961246, 4.9748622 ,\n",
       "         4.99964113, 4.57054872, 4.22238199, 3.95399793, 4.53119393,\n",
       "         4.53119393, 4.60469396, 2.24208148, 4.84222066, 2.60991093,\n",
       "         2.90616214, 3.9400321 , 5.43610886, 5.1154326 , 4.41095673,\n",
       "         3.85542644, 2.61130966, 4.39742774, 2.91501804, 5.50082846,\n",
       "         5.08897383, 3.90305913, 3.1922032 , 3.83851908, 3.7791397 ,\n",
       "         6.25572443, 6.66616129, 6.87920174, 4.17739509, 6.9416622 ,\n",
       "         5.77086265, 5.59704845, 5.63464955, 3.61802982, 3.71481226,\n",
       "         4.82289769, 4.98594452, 4.4214623 , 4.23747727, 5.52818467,\n",
       "         6.04755148, 3.90137206, 5.18393526, 5.8325706 , 4.80318341,\n",
       "         4.61824746, 7.83152876, 5.06060341, 2.47637816, 3.13519624,\n",
       "         4.3965351 , 6.17522899, 5.53931373, 5.41859346, 4.51139836,\n",
       "         3.97169263, 4.98725233, 3.63110974, 3.61559735, 2.07115725,\n",
       "         6.00416185, 3.17096437, 3.51102419, 6.1981562 , 4.83652808,\n",
       "         3.48178999, 2.77212417, 5.46766458, 7.92794208, 5.81115847,\n",
       "         6.27869348, 6.35721641, 7.10452755, 4.31615172, 4.63202935,\n",
       "         6.72321522, 4.09300792, 4.56086607, 6.76762538, 4.41831972,\n",
       "         4.28753001, 4.62990558, 5.85331271, 4.23523018, 3.6248366 ,\n",
       "         4.93411921, 3.77850484, 2.16638277, 3.40733158, 3.66129763,\n",
       "         3.59193269, 5.57567192, 6.41378152, 4.58022239, 3.10562148,\n",
       "         3.774871  , 3.49507961, 3.83699409, 4.90049888, 4.79156491,\n",
       "         3.50869792, 3.78250997, 4.50560866, 3.71665863, 4.99077239,\n",
       "         3.47894607, 3.25001624, 4.08305582, 4.15187355, 4.01455797,\n",
       "         4.5541773 , 3.5084221 , 3.57550855, 4.36202734, 3.81514165,\n",
       "         1.45257669, 5.15254313, 5.61857821, 5.57435301, 4.84615549,\n",
       "         4.47680757, 5.58233311, 4.37699412, 4.78179904, 2.39038021,\n",
       "         3.0992383 , 2.91193528, 3.73466531, 3.84131928, 3.58405424,\n",
       "         6.05131311, 5.8946512 , 5.94934845, 5.46538121, 4.91247886,\n",
       "         4.71949581, 5.41504289, 4.72155152, 3.84709247, 4.04742723,\n",
       "         5.17132569, 3.8419532 , 3.70215808, 3.97056961, 3.83424428,\n",
       "         3.69444916, 5.62049633, 6.76290076, 5.02927771, 4.60215329,\n",
       "         4.67470146, 4.53303199, 4.05666348, 4.39282846, 5.11886547,\n",
       "         4.7199271 , 4.66949652, 3.92201632, 4.43819099, 5.04797358,\n",
       "         5.62472004, 4.38974489, 4.05815656, 3.91893275, 4.50007765,\n",
       "         5.03769503, 4.38460562, 3.91379348, 3.4910768 , 5.61752505,\n",
       "         3.69694087, 3.75326364, 6.46212836, 3.54498546, 3.82047683,\n",
       "         4.489036  , 4.3300831 , 3.45908037, 6.64465332, 2.91375974,\n",
       "         3.85222809, 4.73137582, 6.02053461, 5.75703778, 5.84670475,\n",
       "         6.01675453, 6.19532779, 4.06102321, 3.80928177, 4.28241425,\n",
       "         4.30695635, 3.9400321 , 3.33083652, 4.01140579, 3.78484258,\n",
       "         3.93117144, 2.91717178, 5.53988293, 5.23363755, 5.31890476,\n",
       "         6.59937024, 6.75882791, 4.70272675, 5.54450828, 4.93254713,\n",
       "         5.6892141 , 5.08011109, 4.93460284, 6.76705075, 6.18561361,\n",
       "         6.18236783, 5.18212869, 5.3873464 , 4.33790204, 5.03152204,\n",
       "         4.60085328, 5.24134646, 4.73551189, 4.5928602 , 5.17955905,\n",
       "         6.47296836, 4.73551189, 5.57812431, 4.91523288, 5.71460472,\n",
       "         4.91074316, 5.08807043, 6.27405123, 4.81096457, 6.19948966,\n",
       "         5.59462296, 6.48581656, 6.46217588, 5.2469314 , 5.27608002,\n",
       "         4.90765959, 4.80531136, 5.58742797, 5.26580147, 4.53691015,\n",
       "         4.90252032, 3.29139073, 4.96620354, 3.05992204, 2.20617261,\n",
       "         2.88151201, 4.06296175, 5.56638519, 5.35847224, 5.27906451,\n",
       "         6.61442208, 5.66396944, 6.7354063 , 6.16067319, 4.38428155,\n",
       "         5.66587069, 4.86577985, 6.11597682, 6.338018  , 4.95724082,\n",
       "         2.6779967 , 5.66962644, 2.74823527, 5.20401519, 4.89759161,\n",
       "         4.7692424 , 3.50648253, 4.88316703, 2.77315711, 2.13117112,\n",
       "         3.08201815, 4.7375676 , 5.07343003, 4.36361727, 3.80104407,\n",
       "         3.92760478, 3.41131   , 4.73911814, 2.40302455, 4.14021155,\n",
       "         4.44938951, 6.06116563, 4.95640141, 5.57645673, 6.06129777,\n",
       "         3.93321858, 4.61164209, 5.3689639 , 5.32547845, 3.44708259,\n",
       "         3.79574391, 2.08967413, 6.08565512, 5.72588141, 2.99566529,\n",
       "         2.01735041, 3.5350012 , 4.06575614, 4.12991311, 4.78075185,\n",
       "         6.68094155, 4.79517809, 4.33443388, 5.18160295, 5.83583105,\n",
       "         4.12477136, 4.66647776, 3.85796666, 5.52456085, 5.64475488,\n",
       "         5.37789804, 5.70738939, 2.44443532, 4.47422493, 4.70690188,\n",
       "         4.72248903, 4.02357682, 4.1165277 , 4.95551262, 4.69004649,\n",
       "         4.08350697, 4.09872261, 4.96051381, 4.65620637, 2.75289017,\n",
       "         3.64839689, 2.00149342, 1.76529752, 2.44228692, 2.73776615,\n",
       "         1.72180549, 4.46935086, 1.83476725, 2.56764973, 4.41499204,\n",
       "         4.33790204, 4.36148754, 4.22210822, 4.14481702, 4.9245057 ,\n",
       "         5.22986348, 4.59405883, 3.78495309, 4.21388537, 4.90651823,\n",
       "         3.51887289, 5.86673123, 5.87547796, 5.69057569, 7.07044863,\n",
       "         5.62259532, 4.16258399, 4.27803648, 5.92256291, 5.0516013 ,\n",
       "         4.06145877, 4.276683  , 3.78249067, 4.88521932, 4.93487699,\n",
       "         4.68071067, 5.34745638, 5.03231912, 4.63833274, 4.71251656,\n",
       "         4.90474858, 5.2191233 , 4.57140716, 4.78881885, 4.62445669,\n",
       "         4.90855182, 5.16979442, 4.36845106, 4.49082695, 5.2850422 ,\n",
       "         4.19311769, 5.14448558, 5.2546757 , 5.13345805, 4.41796081,\n",
       "         6.442099  , 5.89638733, 5.58597707, 5.59985312, 5.67458949,\n",
       "         6.75837133, 4.92331321, 4.17174892, 4.8771133 , 4.17174892,\n",
       "         8.11241901, 6.16706273, 5.4824164 , 3.11243272, 4.46597346,\n",
       "         4.15030364, 4.39814948, 4.09359545, 4.58259507, 2.75280596,\n",
       "         2.30665824, 4.55028772, 5.6738091 , 3.80272911, 2.86556184,\n",
       "         3.98166035, 4.52828165, 3.94151617, 5.41516917, 4.38796248,\n",
       "         3.47023611, 4.67180941, 5.1178854 , 7.21023052, 4.81082919,\n",
       "         5.36462763, 7.66254574, 5.18932853, 5.64088923, 5.57239639,\n",
       "         4.41478047, 7.16110148, 3.76813031, 2.64811843, 4.00723904,\n",
       "         3.79433287, 4.42341476, 2.86960683, 5.52046768, 6.22959007,\n",
       "         6.36344832, 6.81425257, 4.42623377, 2.38384159, 5.72013919,\n",
       "         4.24363437, 1.84346636, 3.70710288, 4.09891727, 3.49365866,\n",
       "         4.92956522, 5.66901428, 5.50584951, 4.0537371 , 4.63087957,\n",
       "         4.12118688, 6.29940128, 5.39561182, 5.90967554, 4.9338182 ,\n",
       "         3.07818423, 3.87608329, 5.6947992 , 4.5350877 , 4.50573086,\n",
       "         4.04895456, 4.24538795, 4.05301728, 5.97578075, 4.08628826,\n",
       "         3.9955363 , 3.83778269, 3.57188904, 5.31109242, 5.28194314,\n",
       "         5.13129307, 5.13129307, 5.36473391, 5.17647548, 6.6188995 ,\n",
       "         6.17584898, 5.11604549, 5.04218985, 5.57663549, 4.9383992 ,\n",
       "         3.74471364, 4.73551189, 5.5563733 , 4.36053371, 4.35539443,\n",
       "         4.48454301, 5.16612173, 6.49697321, 2.71692872, 5.28309774,\n",
       "         4.12430968, 4.02331002, 2.8918438 , 4.58637353, 2.53962459,\n",
       "         2.21201488, 5.55438007, 2.93742785, 2.09346456, 2.42107521,\n",
       "         5.13129307, 4.93254713, 5.84274224, 5.90376819, 4.79606066,\n",
       "         5.89176198, 4.90226401, 5.14721807, 6.18366351, 5.05928574,\n",
       "         4.10603693]),\n",
       "  'R Squared': 0.4861388232902434,\n",
       "  'Mean Absolute Error': 0.9013585137801045,\n",
       "  'Root Mean Squared Error': 1.1926009850582082,\n",
       "  'Training Time': 0.0039997100830078125,\n",
       "  'Prediction Time': 0.002000093460083008}}"
      ]
     },
     "execution_count": 42,
     "metadata": {},
     "output_type": "execute_result"
    }
   ],
   "source": [
    "models"
   ]
  },
  {
   "cell_type": "code",
   "execution_count": 43,
   "metadata": {},
   "outputs": [
    {
     "data": {
      "text/html": [
       "<div>\n",
       "<style scoped>\n",
       "    .dataframe tbody tr th:only-of-type {\n",
       "        vertical-align: middle;\n",
       "    }\n",
       "\n",
       "    .dataframe tbody tr th {\n",
       "        vertical-align: top;\n",
       "    }\n",
       "\n",
       "    .dataframe thead th {\n",
       "        text-align: right;\n",
       "    }\n",
       "</style>\n",
       "<table border=\"1\" class=\"dataframe\">\n",
       "  <thead>\n",
       "    <tr style=\"text-align: right;\">\n",
       "      <th></th>\n",
       "      <th>Regressor Model</th>\n",
       "      <th>Predictions</th>\n",
       "      <th>R Squared</th>\n",
       "      <th>Mean Absolute Error</th>\n",
       "      <th>Root Mean Squared Error</th>\n",
       "      <th>Training Time</th>\n",
       "      <th>Prediction Time</th>\n",
       "    </tr>\n",
       "  </thead>\n",
       "  <tbody>\n",
       "    <tr>\n",
       "      <th>1</th>\n",
       "      <td>Random Forest Regressor</td>\n",
       "      <td>[3.6478498133607413, 3.7445888754899443, 7.033...</td>\n",
       "      <td>0.764772</td>\n",
       "      <td>0.616186</td>\n",
       "      <td>0.806895</td>\n",
       "      <td>0.144936</td>\n",
       "      <td>0.009000</td>\n",
       "    </tr>\n",
       "    <tr>\n",
       "      <th>2</th>\n",
       "      <td>Decision Tree Regressor</td>\n",
       "      <td>[3.74, 4.33, 7.019, 6.723, 5.979, 6.064, 7.337...</td>\n",
       "      <td>0.999037</td>\n",
       "      <td>0.007825</td>\n",
       "      <td>0.051641</td>\n",
       "      <td>0.006905</td>\n",
       "      <td>0.008541</td>\n",
       "    </tr>\n",
       "    <tr>\n",
       "      <th>3</th>\n",
       "      <td>Linear Regressor</td>\n",
       "      <td>[4.026518441820729, 4.234663347656535, 6.59919...</td>\n",
       "      <td>0.486139</td>\n",
       "      <td>0.901359</td>\n",
       "      <td>1.192601</td>\n",
       "      <td>0.004000</td>\n",
       "      <td>0.002000</td>\n",
       "    </tr>\n",
       "  </tbody>\n",
       "</table>\n",
       "</div>"
      ],
      "text/plain": [
       "           Regressor Model                                        Predictions  \\\n",
       "1  Random Forest Regressor  [3.6478498133607413, 3.7445888754899443, 7.033...   \n",
       "2  Decision Tree Regressor  [3.74, 4.33, 7.019, 6.723, 5.979, 6.064, 7.337...   \n",
       "3         Linear Regressor  [4.026518441820729, 4.234663347656535, 6.59919...   \n",
       "\n",
       "   R Squared  Mean Absolute Error  Root Mean Squared Error  Training Time  \\\n",
       "1   0.764772             0.616186                 0.806895       0.144936   \n",
       "2   0.999037             0.007825                 0.051641       0.006905   \n",
       "3   0.486139             0.901359                 1.192601       0.004000   \n",
       "\n",
       "   Prediction Time  \n",
       "1         0.009000  \n",
       "2         0.008541  \n",
       "3         0.002000  "
      ]
     },
     "execution_count": 43,
     "metadata": {},
     "output_type": "execute_result"
    }
   ],
   "source": [
    "model_table=pd.DataFrame.from_dict(models,orient='index')\n",
    "model_table"
   ]
  },
  {
   "cell_type": "code",
   "execution_count": 44,
   "metadata": {},
   "outputs": [],
   "source": [
    "names=['Random Forest', 'Decision Tree','Linear Regression']\n",
    "rmses=[i for i in model_table['Root Mean Squared Error']]\n",
    "color=['red','yellow','blue']"
   ]
  },
  {
   "cell_type": "code",
   "execution_count": 46,
   "metadata": {},
   "outputs": [
    {
     "data": {
      "image/png": "[encoded data removed]",
      "text/plain": [
       "<Figure size 800x600 with 1 Axes>"
      ]
     },
     "metadata": {},
     "output_type": "display_data"
    }
   ],
   "source": [
    "import matplotlib.pyplot as plt \n",
    "plt.figure(figsize=(8,6))\n",
    "scatter = plt.scatter(names,\n",
    "            rmses,\n",
    "            s=150,\n",
    "            c=color )\n",
    "plt.xlabel('Models')\n",
    "plt.xticks(rotation=45 )\n",
    "plt.ylabel('RMSE values')\n",
    "plt.title('Regressors VS Root Mean Squared Errors')\n",
    "plt.show()"
   ]
  },
  {
   "cell_type": "code",
   "execution_count": 47,
   "metadata": {},
   "outputs": [],
   "source": [
    "names=['Random Forest', 'Decision Tree','Linear Regression']\n",
    "preds=[i for i in model_table['Prediction Time']]\n",
    "color=['red','yellow','blue']"
   ]
  },
  {
   "cell_type": "code",
   "execution_count": 48,
   "metadata": {},
   "outputs": [
    {
     "data": {
      "image/png": "[encoded data removed]",
      "text/plain": [
       "<Figure size 800x600 with 1 Axes>"
      ]
     },
     "metadata": {},
     "output_type": "display_data"
    }
   ],
   "source": [
    "plt.figure(figsize=(8,6))\n",
    "scatter = plt.scatter(names, \n",
    "            preds,\n",
    "            s=150,\n",
    "            c=color)\n",
    "plt.xlabel('Models')\n",
    "plt.xticks(rotation=45)\n",
    "plt.ylabel('Prediction Time')\n",
    "plt.title('Regressors VS Prediction Times')\n",
    "plt.show()"
   ]
  },
  {
   "cell_type": "code",
   "execution_count": null,
   "metadata": {},
   "outputs": [],
   "source": []
  }
 ],
 "metadata": {
  "kernelspec": {
   "display_name": "Python 3",
   "language": "python",
   "name": "python3"
  },
  "language_info": {
   "codemirror_mode": {
    "name": "ipython",
    "version": 3
   },
   "file_extension": ".py",
   "mimetype": "text/x-python",
   "name": "python",
   "nbconvert_exporter": "python",
   "pygments_lexer": "ipython3",
   "version": "3.11.4"
  }
 },
 "nbformat": 4,
 "nbformat_minor": 2
}
